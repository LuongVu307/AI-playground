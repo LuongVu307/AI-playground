{
 "cells": [
  {
   "cell_type": "code",
   "execution_count": 5,
   "id": "fe087797-5b58-4eae-ad51-b9fba8911bce",
   "metadata": {},
   "outputs": [],
   "source": [
    "import sys\n",
    "import os\n",
    "\n",
    "root = os.path.abspath(os.path.join(os.getcwd(), \"..\"))\n",
    "sys.path.append(root)"
   ]
  },
  {
   "cell_type": "code",
   "execution_count": 14,
   "id": "2cb8dd5f-68de-4700-8d75-8b4571e65e4e",
   "metadata": {},
   "outputs": [],
   "source": [
    "from models.LinearRegression import LinearRegression\n",
    "from training.train import train_regression\n",
    "from training.evaluate import evaluate"
   ]
  },
  {
   "cell_type": "code",
   "execution_count": 35,
   "id": "f47705b3-d171-41ee-9cbe-9936a52fa76b",
   "metadata": {},
   "outputs": [
    {
     "name": "stdout",
     "output_type": "stream",
     "text": [
      "[[-0.18912039 -1.33031363  0.92165011]\n",
      " [-0.65332923 -0.47494531  1.76545424]\n",
      " [-0.22485598  0.07685188 -0.65000258]] \n",
      " [[-101.36560262]\n",
      " [ -58.19709597]\n",
      " [ -31.34992158]]\n"
     ]
    },
    {
     "data": {
      "text/plain": [
       "9.294530496557904"
      ]
     },
     "execution_count": 35,
     "metadata": {},
     "output_type": "execute_result"
    }
   ],
   "source": [
    "from sklearn.datasets import make_regression\n",
    "from sklearn.metrics import mean_squared_error, mean_absolute_error, r2_score\n",
    "from sklearn.model_selection import train_test_split\n",
    "import numpy as np\n",
    "\n",
    "X, y = make_regression(n_samples = 1000, n_features = 3, noise = 3, random_state = 42)\n",
    "y = np.expand_dims(y, -1)\n",
    "\n",
    "X_train, X_test, y_train, y_test = train_test_split(X, y, test_size = 0.2)\n",
    "\n",
    "print(X[:3, :], \"\\n\", y[:3])\n",
    "\n",
    "model = LinearRegression()\n",
    "model = train_regression(model, X_train, y_train)\n",
    "\n",
    "evaluate(model, mean_squared_error, X_test, y_test)"
   ]
  }
 ],
 "metadata": {
  "kernelspec": {
   "display_name": "Python 3 (ipykernel)",
   "language": "python",
   "name": "python3"
  },
  "language_info": {
   "codemirror_mode": {
    "name": "ipython",
    "version": 3
   },
   "file_extension": ".py",
   "mimetype": "text/x-python",
   "name": "python",
   "nbconvert_exporter": "python",
   "pygments_lexer": "ipython3",
   "version": "3.8.20"
  }
 },
 "nbformat": 4,
 "nbformat_minor": 5
}
