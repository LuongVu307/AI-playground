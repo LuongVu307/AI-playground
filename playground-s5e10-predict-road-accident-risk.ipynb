{
 "cells": [
  {
   "cell_type": "markdown",
   "id": "1e6adacf",
   "metadata": {
    "papermill": {
     "duration": 0.010559,
     "end_time": "2025-10-03T10:09:00.297822",
     "exception": false,
     "start_time": "2025-10-03T10:09:00.287263",
     "status": "completed"
    },
    "tags": []
   },
   "source": [
    "## 1.1 Important info"
   ]
  },
  {
   "cell_type": "markdown",
   "id": "29a2a7d2",
   "metadata": {
    "papermill": {
     "duration": 0.007987,
     "end_time": "2025-10-03T10:09:00.315662",
     "exception": false,
     "start_time": "2025-10-03T10:09:00.307675",
     "status": "completed"
    },
    "tags": []
   },
   "source": [
    "# 1. Ideas"
   ]
  },
  {
   "cell_type": "markdown",
   "id": "e4f6ed11",
   "metadata": {
    "papermill": {
     "duration": 0.010169,
     "end_time": "2025-10-03T10:09:00.334113",
     "exception": false,
     "start_time": "2025-10-03T10:09:00.323944",
     "status": "completed"
    },
    "tags": []
   },
   "source": [
    "**Goals**: Predict likelyhood of accidents of different types of road \\\n",
    "**Evaluation**: Root Mean Squared Error\n"
   ]
  },
  {
   "cell_type": "markdown",
   "id": "74c1728d",
   "metadata": {
    "papermill": {
     "duration": 0.0079,
     "end_time": "2025-10-03T10:09:00.350228",
     "exception": false,
     "start_time": "2025-10-03T10:09:00.342328",
     "status": "completed"
    },
    "tags": []
   },
   "source": [
    "# 2. Data Processing"
   ]
  },
  {
   "cell_type": "code",
   "execution_count": 1,
   "id": "c3528a23",
   "metadata": {
    "_cell_guid": "b1076dfc-b9ad-4769-8c92-a6c4dae69d19",
    "_uuid": "8f2839f25d086af736a60e9eeb907d3b93b6e0e5",
    "execution": {
     "iopub.execute_input": "2025-10-03T10:09:00.368652Z",
     "iopub.status.busy": "2025-10-03T10:09:00.367753Z",
     "iopub.status.idle": "2025-10-03T10:09:03.402315Z",
     "shell.execute_reply": "2025-10-03T10:09:03.401376Z"
    },
    "papermill": {
     "duration": 3.04528,
     "end_time": "2025-10-03T10:09:03.403802",
     "exception": false,
     "start_time": "2025-10-03T10:09:00.358522",
     "status": "completed"
    },
    "tags": []
   },
   "outputs": [
    {
     "data": {
      "text/html": [
       "<div>\n",
       "<style scoped>\n",
       "    .dataframe tbody tr th:only-of-type {\n",
       "        vertical-align: middle;\n",
       "    }\n",
       "\n",
       "    .dataframe tbody tr th {\n",
       "        vertical-align: top;\n",
       "    }\n",
       "\n",
       "    .dataframe thead th {\n",
       "        text-align: right;\n",
       "    }\n",
       "</style>\n",
       "<table border=\"1\" class=\"dataframe\">\n",
       "  <thead>\n",
       "    <tr style=\"text-align: right;\">\n",
       "      <th></th>\n",
       "      <th>road_type</th>\n",
       "      <th>num_lanes</th>\n",
       "      <th>curvature</th>\n",
       "      <th>speed_limit</th>\n",
       "      <th>lighting</th>\n",
       "      <th>weather</th>\n",
       "      <th>road_signs_present</th>\n",
       "      <th>public_road</th>\n",
       "      <th>time_of_day</th>\n",
       "      <th>holiday</th>\n",
       "      <th>school_season</th>\n",
       "      <th>num_reported_accidents</th>\n",
       "      <th>accident_risk</th>\n",
       "    </tr>\n",
       "    <tr>\n",
       "      <th>id</th>\n",
       "      <th></th>\n",
       "      <th></th>\n",
       "      <th></th>\n",
       "      <th></th>\n",
       "      <th></th>\n",
       "      <th></th>\n",
       "      <th></th>\n",
       "      <th></th>\n",
       "      <th></th>\n",
       "      <th></th>\n",
       "      <th></th>\n",
       "      <th></th>\n",
       "      <th></th>\n",
       "    </tr>\n",
       "  </thead>\n",
       "  <tbody>\n",
       "    <tr>\n",
       "      <th>0</th>\n",
       "      <td>urban</td>\n",
       "      <td>2</td>\n",
       "      <td>0.06</td>\n",
       "      <td>35</td>\n",
       "      <td>daylight</td>\n",
       "      <td>rainy</td>\n",
       "      <td>False</td>\n",
       "      <td>True</td>\n",
       "      <td>afternoon</td>\n",
       "      <td>False</td>\n",
       "      <td>True</td>\n",
       "      <td>1</td>\n",
       "      <td>0.13</td>\n",
       "    </tr>\n",
       "    <tr>\n",
       "      <th>1</th>\n",
       "      <td>urban</td>\n",
       "      <td>4</td>\n",
       "      <td>0.99</td>\n",
       "      <td>35</td>\n",
       "      <td>daylight</td>\n",
       "      <td>clear</td>\n",
       "      <td>True</td>\n",
       "      <td>False</td>\n",
       "      <td>evening</td>\n",
       "      <td>True</td>\n",
       "      <td>True</td>\n",
       "      <td>0</td>\n",
       "      <td>0.35</td>\n",
       "    </tr>\n",
       "    <tr>\n",
       "      <th>2</th>\n",
       "      <td>rural</td>\n",
       "      <td>4</td>\n",
       "      <td>0.63</td>\n",
       "      <td>70</td>\n",
       "      <td>dim</td>\n",
       "      <td>clear</td>\n",
       "      <td>False</td>\n",
       "      <td>True</td>\n",
       "      <td>morning</td>\n",
       "      <td>True</td>\n",
       "      <td>False</td>\n",
       "      <td>2</td>\n",
       "      <td>0.30</td>\n",
       "    </tr>\n",
       "    <tr>\n",
       "      <th>3</th>\n",
       "      <td>highway</td>\n",
       "      <td>4</td>\n",
       "      <td>0.07</td>\n",
       "      <td>35</td>\n",
       "      <td>dim</td>\n",
       "      <td>rainy</td>\n",
       "      <td>True</td>\n",
       "      <td>True</td>\n",
       "      <td>morning</td>\n",
       "      <td>False</td>\n",
       "      <td>False</td>\n",
       "      <td>1</td>\n",
       "      <td>0.21</td>\n",
       "    </tr>\n",
       "    <tr>\n",
       "      <th>4</th>\n",
       "      <td>rural</td>\n",
       "      <td>1</td>\n",
       "      <td>0.58</td>\n",
       "      <td>60</td>\n",
       "      <td>daylight</td>\n",
       "      <td>foggy</td>\n",
       "      <td>False</td>\n",
       "      <td>False</td>\n",
       "      <td>evening</td>\n",
       "      <td>True</td>\n",
       "      <td>False</td>\n",
       "      <td>1</td>\n",
       "      <td>0.56</td>\n",
       "    </tr>\n",
       "  </tbody>\n",
       "</table>\n",
       "</div>"
      ],
      "text/plain": [
       "   road_type  num_lanes  curvature  speed_limit  lighting weather  \\\n",
       "id                                                                  \n",
       "0      urban          2       0.06           35  daylight   rainy   \n",
       "1      urban          4       0.99           35  daylight   clear   \n",
       "2      rural          4       0.63           70       dim   clear   \n",
       "3    highway          4       0.07           35       dim   rainy   \n",
       "4      rural          1       0.58           60  daylight   foggy   \n",
       "\n",
       "    road_signs_present  public_road time_of_day  holiday  school_season  \\\n",
       "id                                                                        \n",
       "0                False         True   afternoon    False           True   \n",
       "1                 True        False     evening     True           True   \n",
       "2                False         True     morning     True          False   \n",
       "3                 True         True     morning    False          False   \n",
       "4                False        False     evening     True          False   \n",
       "\n",
       "    num_reported_accidents  accident_risk  \n",
       "id                                         \n",
       "0                        1           0.13  \n",
       "1                        0           0.35  \n",
       "2                        2           0.30  \n",
       "3                        1           0.21  \n",
       "4                        1           0.56  "
      ]
     },
     "execution_count": 1,
     "metadata": {},
     "output_type": "execute_result"
    }
   ],
   "source": [
    "import pandas as pd\n",
    "\n",
    "raw = pd.read_csv(\"/kaggle/input/playground-series-s5e10/train.csv\", index_col = \"id\")\n",
    "raw.head()"
   ]
  },
  {
   "cell_type": "code",
   "execution_count": 2,
   "id": "dc17a135",
   "metadata": {
    "execution": {
     "iopub.execute_input": "2025-10-03T10:09:03.422849Z",
     "iopub.status.busy": "2025-10-03T10:09:03.422094Z",
     "iopub.status.idle": "2025-10-03T10:09:03.555261Z",
     "shell.execute_reply": "2025-10-03T10:09:03.554288Z"
    },
    "papermill": {
     "duration": 0.143972,
     "end_time": "2025-10-03T10:09:03.556696",
     "exception": false,
     "start_time": "2025-10-03T10:09:03.412724",
     "status": "completed"
    },
    "tags": []
   },
   "outputs": [
    {
     "name": "stdout",
     "output_type": "stream",
     "text": [
      "<class 'pandas.core.frame.DataFrame'>\n",
      "Index: 517754 entries, 0 to 517753\n",
      "Data columns (total 13 columns):\n",
      " #   Column                  Non-Null Count   Dtype  \n",
      "---  ------                  --------------   -----  \n",
      " 0   road_type               517754 non-null  object \n",
      " 1   num_lanes               517754 non-null  int64  \n",
      " 2   curvature               517754 non-null  float64\n",
      " 3   speed_limit             517754 non-null  int64  \n",
      " 4   lighting                517754 non-null  object \n",
      " 5   weather                 517754 non-null  object \n",
      " 6   road_signs_present      517754 non-null  bool   \n",
      " 7   public_road             517754 non-null  bool   \n",
      " 8   time_of_day             517754 non-null  object \n",
      " 9   holiday                 517754 non-null  bool   \n",
      " 10  school_season           517754 non-null  bool   \n",
      " 11  num_reported_accidents  517754 non-null  int64  \n",
      " 12  accident_risk           517754 non-null  float64\n",
      "dtypes: bool(4), float64(2), int64(3), object(4)\n",
      "memory usage: 41.5+ MB\n"
     ]
    }
   ],
   "source": [
    "raw.info()"
   ]
  },
  {
   "cell_type": "code",
   "execution_count": 3,
   "id": "26a8cdbc",
   "metadata": {
    "execution": {
     "iopub.execute_input": "2025-10-03T10:09:03.575294Z",
     "iopub.status.busy": "2025-10-03T10:09:03.575023Z",
     "iopub.status.idle": "2025-10-03T10:09:03.696594Z",
     "shell.execute_reply": "2025-10-03T10:09:03.695673Z"
    },
    "papermill": {
     "duration": 0.132596,
     "end_time": "2025-10-03T10:09:03.698020",
     "exception": false,
     "start_time": "2025-10-03T10:09:03.565424",
     "status": "completed"
    },
    "tags": []
   },
   "outputs": [
    {
     "name": "stdout",
     "output_type": "stream",
     "text": [
      "Unique types of categorical columns: \n",
      "    road_type :  ['urban', 'rural', 'highway']\n",
      "    lighting :  ['daylight', 'dim', 'night']\n",
      "    weather :  ['rainy', 'clear', 'foggy']\n",
      "    time_of_day :  ['afternoon', 'evening', 'morning']\n"
     ]
    }
   ],
   "source": [
    "print(\"Unique types of categorical columns: \")\n",
    "for col in raw.select_dtypes(include = [\"object\"]):\n",
    "    print(\"   \", col, \": \", list(raw[col].unique()))"
   ]
  },
  {
   "cell_type": "code",
   "execution_count": 4,
   "id": "23646138",
   "metadata": {
    "execution": {
     "iopub.execute_input": "2025-10-03T10:09:03.717207Z",
     "iopub.status.busy": "2025-10-03T10:09:03.716913Z",
     "iopub.status.idle": "2025-10-03T10:09:03.722386Z",
     "shell.execute_reply": "2025-10-03T10:09:03.721523Z"
    },
    "papermill": {
     "duration": 0.016497,
     "end_time": "2025-10-03T10:09:03.723708",
     "exception": false,
     "start_time": "2025-10-03T10:09:03.707211",
     "status": "completed"
    },
    "tags": []
   },
   "outputs": [
    {
     "name": "stdout",
     "output_type": "stream",
     "text": [
      "Columns with Boolean value: \n",
      "['road_signs_present', 'public_road', 'holiday', 'school_season']\n"
     ]
    }
   ],
   "source": [
    "print(\"Columns with Boolean value: \",)\n",
    "print([col for col in raw.select_dtypes(include = [\"bool\"])])"
   ]
  },
  {
   "cell_type": "code",
   "execution_count": 5,
   "id": "340f9b87",
   "metadata": {
    "execution": {
     "iopub.execute_input": "2025-10-03T10:09:03.742644Z",
     "iopub.status.busy": "2025-10-03T10:09:03.742349Z",
     "iopub.status.idle": "2025-10-03T10:09:03.753813Z",
     "shell.execute_reply": "2025-10-03T10:09:03.752870Z"
    },
    "papermill": {
     "duration": 0.022374,
     "end_time": "2025-10-03T10:09:03.755120",
     "exception": false,
     "start_time": "2025-10-03T10:09:03.732746",
     "status": "completed"
    },
    "tags": []
   },
   "outputs": [
    {
     "name": "stdout",
     "output_type": "stream",
     "text": [
      "Column with numeric value: \n",
      "['num_lanes', 'curvature', 'speed_limit', 'num_reported_accidents', 'accident_risk']\n"
     ]
    }
   ],
   "source": [
    "print(\"Column with numeric value: \")\n",
    "print([col for col in raw.select_dtypes(include = [\"number\"])])"
   ]
  },
  {
   "cell_type": "code",
   "execution_count": 6,
   "id": "09bf64cb",
   "metadata": {
    "execution": {
     "iopub.execute_input": "2025-10-03T10:09:03.774444Z",
     "iopub.status.busy": "2025-10-03T10:09:03.774044Z",
     "iopub.status.idle": "2025-10-03T10:09:03.887398Z",
     "shell.execute_reply": "2025-10-03T10:09:03.886450Z"
    },
    "papermill": {
     "duration": 0.125003,
     "end_time": "2025-10-03T10:09:03.889066",
     "exception": false,
     "start_time": "2025-10-03T10:09:03.764063",
     "status": "completed"
    },
    "tags": []
   },
   "outputs": [
    {
     "name": "stdout",
     "output_type": "stream",
     "text": [
      "Number of Nan values in each columns\n",
      "road_type                 0\n",
      "num_lanes                 0\n",
      "curvature                 0\n",
      "speed_limit               0\n",
      "lighting                  0\n",
      "weather                   0\n",
      "road_signs_present        0\n",
      "public_road               0\n",
      "time_of_day               0\n",
      "holiday                   0\n",
      "school_season             0\n",
      "num_reported_accidents    0\n",
      "accident_risk             0\n",
      "dtype: int64\n"
     ]
    }
   ],
   "source": [
    "print(\"Number of Nan values in each columns\")\n",
    "print(raw.isna().sum())"
   ]
  },
  {
   "cell_type": "markdown",
   "id": "49d76e8c",
   "metadata": {
    "papermill": {
     "duration": 0.008901,
     "end_time": "2025-10-03T10:09:03.907836",
     "exception": false,
     "start_time": "2025-10-03T10:09:03.898935",
     "status": "completed"
    },
    "tags": []
   },
   "source": [
    "## 2.1 Process categorical data"
   ]
  },
  {
   "cell_type": "markdown",
   "id": "33da1378",
   "metadata": {
    "papermill": {
     "duration": 0.008799,
     "end_time": "2025-10-03T10:09:03.925647",
     "exception": false,
     "start_time": "2025-10-03T10:09:03.916848",
     "status": "completed"
    },
    "tags": []
   },
   "source": [
    "**Hypothesis**: \n",
    "- The darker, the risker to drive\n",
    "- Rain and foggy has the same risk while clear sky poses no risk\n",
    "- Highway poses less risk than urban and rural area"
   ]
  },
  {
   "cell_type": "code",
   "execution_count": 7,
   "id": "ed8c66a7",
   "metadata": {
    "execution": {
     "iopub.execute_input": "2025-10-03T10:09:03.945194Z",
     "iopub.status.busy": "2025-10-03T10:09:03.944460Z",
     "iopub.status.idle": "2025-10-03T10:09:05.931566Z",
     "shell.execute_reply": "2025-10-03T10:09:05.930746Z"
    },
    "papermill": {
     "duration": 1.998171,
     "end_time": "2025-10-03T10:09:05.932830",
     "exception": false,
     "start_time": "2025-10-03T10:09:03.934659",
     "status": "completed"
    },
    "tags": []
   },
   "outputs": [
    {
     "data": {
      "text/html": [
       "<div>\n",
       "<style scoped>\n",
       "    .dataframe tbody tr th:only-of-type {\n",
       "        vertical-align: middle;\n",
       "    }\n",
       "\n",
       "    .dataframe tbody tr th {\n",
       "        vertical-align: top;\n",
       "    }\n",
       "\n",
       "    .dataframe thead th {\n",
       "        text-align: right;\n",
       "    }\n",
       "</style>\n",
       "<table border=\"1\" class=\"dataframe\">\n",
       "  <thead>\n",
       "    <tr style=\"text-align: right;\">\n",
       "      <th></th>\n",
       "      <th>road_type</th>\n",
       "      <th>lighting</th>\n",
       "      <th>weather</th>\n",
       "      <th>time_of_day</th>\n",
       "      <th>accident_risk</th>\n",
       "    </tr>\n",
       "    <tr>\n",
       "      <th>id</th>\n",
       "      <th></th>\n",
       "      <th></th>\n",
       "      <th></th>\n",
       "      <th></th>\n",
       "      <th></th>\n",
       "    </tr>\n",
       "  </thead>\n",
       "  <tbody>\n",
       "    <tr>\n",
       "      <th>0</th>\n",
       "      <td>urban</td>\n",
       "      <td>daylight</td>\n",
       "      <td>rainy</td>\n",
       "      <td>afternoon</td>\n",
       "      <td>0.13</td>\n",
       "    </tr>\n",
       "    <tr>\n",
       "      <th>1</th>\n",
       "      <td>urban</td>\n",
       "      <td>daylight</td>\n",
       "      <td>clear</td>\n",
       "      <td>evening</td>\n",
       "      <td>0.35</td>\n",
       "    </tr>\n",
       "    <tr>\n",
       "      <th>2</th>\n",
       "      <td>rural</td>\n",
       "      <td>dim</td>\n",
       "      <td>clear</td>\n",
       "      <td>morning</td>\n",
       "      <td>0.30</td>\n",
       "    </tr>\n",
       "    <tr>\n",
       "      <th>3</th>\n",
       "      <td>highway</td>\n",
       "      <td>dim</td>\n",
       "      <td>rainy</td>\n",
       "      <td>morning</td>\n",
       "      <td>0.21</td>\n",
       "    </tr>\n",
       "    <tr>\n",
       "      <th>4</th>\n",
       "      <td>rural</td>\n",
       "      <td>daylight</td>\n",
       "      <td>foggy</td>\n",
       "      <td>evening</td>\n",
       "      <td>0.56</td>\n",
       "    </tr>\n",
       "    <tr>\n",
       "      <th>...</th>\n",
       "      <td>...</td>\n",
       "      <td>...</td>\n",
       "      <td>...</td>\n",
       "      <td>...</td>\n",
       "      <td>...</td>\n",
       "    </tr>\n",
       "    <tr>\n",
       "      <th>517749</th>\n",
       "      <td>highway</td>\n",
       "      <td>daylight</td>\n",
       "      <td>foggy</td>\n",
       "      <td>afternoon</td>\n",
       "      <td>0.32</td>\n",
       "    </tr>\n",
       "    <tr>\n",
       "      <th>517750</th>\n",
       "      <td>rural</td>\n",
       "      <td>daylight</td>\n",
       "      <td>rainy</td>\n",
       "      <td>morning</td>\n",
       "      <td>0.26</td>\n",
       "    </tr>\n",
       "    <tr>\n",
       "      <th>517751</th>\n",
       "      <td>urban</td>\n",
       "      <td>daylight</td>\n",
       "      <td>foggy</td>\n",
       "      <td>afternoon</td>\n",
       "      <td>0.19</td>\n",
       "    </tr>\n",
       "    <tr>\n",
       "      <th>517752</th>\n",
       "      <td>highway</td>\n",
       "      <td>night</td>\n",
       "      <td>clear</td>\n",
       "      <td>afternoon</td>\n",
       "      <td>0.51</td>\n",
       "    </tr>\n",
       "    <tr>\n",
       "      <th>517753</th>\n",
       "      <td>highway</td>\n",
       "      <td>dim</td>\n",
       "      <td>rainy</td>\n",
       "      <td>afternoon</td>\n",
       "      <td>0.22</td>\n",
       "    </tr>\n",
       "  </tbody>\n",
       "</table>\n",
       "<p>517754 rows × 5 columns</p>\n",
       "</div>"
      ],
      "text/plain": [
       "       road_type  lighting weather time_of_day  accident_risk\n",
       "id                                                           \n",
       "0          urban  daylight   rainy   afternoon           0.13\n",
       "1          urban  daylight   clear     evening           0.35\n",
       "2          rural       dim   clear     morning           0.30\n",
       "3        highway       dim   rainy     morning           0.21\n",
       "4          rural  daylight   foggy     evening           0.56\n",
       "...          ...       ...     ...         ...            ...\n",
       "517749   highway  daylight   foggy   afternoon           0.32\n",
       "517750     rural  daylight   rainy     morning           0.26\n",
       "517751     urban  daylight   foggy   afternoon           0.19\n",
       "517752   highway     night   clear   afternoon           0.51\n",
       "517753   highway       dim   rainy   afternoon           0.22\n",
       "\n",
       "[517754 rows x 5 columns]"
      ]
     },
     "execution_count": 7,
     "metadata": {},
     "output_type": "execute_result"
    }
   ],
   "source": [
    "from sklearn.preprocessing import OneHotEncoder, OrdinalEncoder\n",
    "from sklearn.pipeline import Pipeline\n",
    "from sklearn.compose import ColumnTransformer\n",
    "from sklearn.base import BaseEstimator, TransformerMixin\n",
    "import numpy as np\n",
    "import matplotlib.pyplot as plt\n",
    "import seaborn as sns\n",
    "import numpy as np\n",
    "\n",
    "cat_col = [col for col in raw.select_dtypes(include = [\"object\"])]\n",
    "\n",
    "categorical = raw[cat_col +[\"accident_risk\"]]\n",
    "categorical"
   ]
  },
  {
   "cell_type": "code",
   "execution_count": 8,
   "id": "b9f95f20",
   "metadata": {
    "execution": {
     "iopub.execute_input": "2025-10-03T10:09:05.952845Z",
     "iopub.status.busy": "2025-10-03T10:09:05.952083Z",
     "iopub.status.idle": "2025-10-03T10:09:06.109565Z",
     "shell.execute_reply": "2025-10-03T10:09:06.108665Z"
    },
    "papermill": {
     "duration": 0.168659,
     "end_time": "2025-10-03T10:09:06.110873",
     "exception": false,
     "start_time": "2025-10-03T10:09:05.942214",
     "status": "completed"
    },
    "tags": []
   },
   "outputs": [
    {
     "name": "stdout",
     "output_type": "stream",
     "text": [
      "road_type\n",
      "highway    173672\n",
      "rural      172719\n",
      "urban      171363\n",
      "Name: count, dtype: int64\n",
      "lighting\n",
      "dim         183826\n",
      "daylight    178015\n",
      "night       155913\n",
      "Name: count, dtype: int64\n",
      "weather\n",
      "foggy    181463\n",
      "clear    179306\n",
      "rainy    156985\n",
      "Name: count, dtype: int64\n",
      "time_of_day\n",
      "morning      173410\n",
      "evening      172837\n",
      "afternoon    171507\n",
      "Name: count, dtype: int64\n"
     ]
    }
   ],
   "source": [
    "for col in cat_col:\n",
    "    print(categorical[col].value_counts())"
   ]
  },
  {
   "cell_type": "code",
   "execution_count": 9,
   "id": "8dea37e7",
   "metadata": {
    "execution": {
     "iopub.execute_input": "2025-10-03T10:09:06.130659Z",
     "iopub.status.busy": "2025-10-03T10:09:06.130347Z",
     "iopub.status.idle": "2025-10-03T10:09:06.136369Z",
     "shell.execute_reply": "2025-10-03T10:09:06.135655Z"
    },
    "papermill": {
     "duration": 0.017224,
     "end_time": "2025-10-03T10:09:06.137608",
     "exception": false,
     "start_time": "2025-10-03T10:09:06.120384",
     "status": "completed"
    },
    "tags": []
   },
   "outputs": [],
   "source": [
    "class RoadWeatherEncoder(BaseEstimator, TransformerMixin):\n",
    "    def __init__(self):\n",
    "        self.mapping_road = {\"urban\": 1, \"rural\": 1, \"highway\": 0}\n",
    "        self.mapping_weather = {\"rainy\": 1, \"clear\": 0, \"foggy\": 1}\n",
    "    \n",
    "    def fit(self, X, y=None):\n",
    "        return self\n",
    "    \n",
    "    def transform(self, X):\n",
    "        X = X.copy()\n",
    "        X[\"road_type_encoded\"] = X[\"road_type\"].map(self.mapping_road)\n",
    "        X[\"weather_encoded\"] = X[\"weather\"].map(self.mapping_weather)\n",
    "        X.drop(columns=[\"road_type\", \"weather\"], inplace=True)\n",
    "        return X\n",
    "\n",
    "    def get_feature_names_out(self, input_features=None):\n",
    "        return [\"road_type_encoded\", \"weather_encoded\"]\n"
   ]
  },
  {
   "cell_type": "code",
   "execution_count": 10,
   "id": "2046d388",
   "metadata": {
    "execution": {
     "iopub.execute_input": "2025-10-03T10:09:06.216767Z",
     "iopub.status.busy": "2025-10-03T10:09:06.216448Z",
     "iopub.status.idle": "2025-10-03T10:09:06.221680Z",
     "shell.execute_reply": "2025-10-03T10:09:06.220842Z"
    },
    "papermill": {
     "duration": 0.016552,
     "end_time": "2025-10-03T10:09:06.222899",
     "exception": false,
     "start_time": "2025-10-03T10:09:06.206347",
     "status": "completed"
    },
    "tags": []
   },
   "outputs": [],
   "source": [
    "OHEncoder = OneHotEncoder()\n",
    "\n",
    "cat_processor = ColumnTransformer(transformers = [\n",
    "    (\"OneHot Encode\", OHEncoder, cat_col),\n",
    "    (\"Label Encode lightning\", OrdinalEncoder(categories=[[\"daylight\", \"dim\", \"night\"]], ), [\"lighting\"]),\n",
    "    (\"Label Encode time\", OrdinalEncoder(categories=[[\"morning\", \"afternoon\", \"evening\"]]), [\"time_of_day\"]),\n",
    "    (\"Road Weather Encoder\", RoadWeatherEncoder(), [\"road_type\", \"weather\"]),\n",
    "], remainder=\"passthrough\")"
   ]
  },
  {
   "cell_type": "code",
   "execution_count": 11,
   "id": "c5a919d8",
   "metadata": {
    "execution": {
     "iopub.execute_input": "2025-10-03T10:09:06.242917Z",
     "iopub.status.busy": "2025-10-03T10:09:06.242213Z",
     "iopub.status.idle": "2025-10-03T10:09:07.259334Z",
     "shell.execute_reply": "2025-10-03T10:09:07.258591Z"
    },
    "papermill": {
     "duration": 1.028633,
     "end_time": "2025-10-03T10:09:07.260883",
     "exception": false,
     "start_time": "2025-10-03T10:09:06.232250",
     "status": "completed"
    },
    "tags": []
   },
   "outputs": [
    {
     "data": {
      "text/plain": [
       "(array([[0.  , 0.  , 1.  , ..., 1.  , 1.  , 0.13],\n",
       "        [0.  , 0.  , 1.  , ..., 1.  , 0.  , 0.35],\n",
       "        [0.  , 1.  , 0.  , ..., 1.  , 0.  , 0.3 ],\n",
       "        ...,\n",
       "        [0.  , 0.  , 1.  , ..., 1.  , 1.  , 0.19],\n",
       "        [1.  , 0.  , 0.  , ..., 0.  , 0.  , 0.51],\n",
       "        [1.  , 0.  , 0.  , ..., 0.  , 1.  , 0.22]]),\n",
       " (517754, 17))"
      ]
     },
     "execution_count": 11,
     "metadata": {},
     "output_type": "execute_result"
    }
   ],
   "source": [
    "cat_transformed = cat_processor.fit_transform(categorical)\n",
    "cat_transformed, cat_transformed.shape"
   ]
  },
  {
   "cell_type": "code",
   "execution_count": 12,
   "id": "fb310019",
   "metadata": {
    "execution": {
     "iopub.execute_input": "2025-10-03T10:09:07.281702Z",
     "iopub.status.busy": "2025-10-03T10:09:07.280928Z",
     "iopub.status.idle": "2025-10-03T10:09:07.286927Z",
     "shell.execute_reply": "2025-10-03T10:09:07.286017Z"
    },
    "papermill": {
     "duration": 0.017837,
     "end_time": "2025-10-03T10:09:07.288469",
     "exception": false,
     "start_time": "2025-10-03T10:09:07.270632",
     "status": "completed"
    },
    "tags": []
   },
   "outputs": [
    {
     "data": {
      "text/plain": [
       "array(['OneHot Encode__road_type_highway',\n",
       "       'OneHot Encode__road_type_rural', 'OneHot Encode__road_type_urban',\n",
       "       'OneHot Encode__lighting_daylight', 'OneHot Encode__lighting_dim',\n",
       "       'OneHot Encode__lighting_night', 'OneHot Encode__weather_clear',\n",
       "       'OneHot Encode__weather_foggy', 'OneHot Encode__weather_rainy',\n",
       "       'OneHot Encode__time_of_day_afternoon',\n",
       "       'OneHot Encode__time_of_day_evening',\n",
       "       'OneHot Encode__time_of_day_morning',\n",
       "       'Label Encode lightning__lighting',\n",
       "       'Label Encode time__time_of_day',\n",
       "       'Road Weather Encoder__road_type_encoded',\n",
       "       'Road Weather Encoder__weather_encoded',\n",
       "       'remainder__accident_risk'], dtype=object)"
      ]
     },
     "execution_count": 12,
     "metadata": {},
     "output_type": "execute_result"
    }
   ],
   "source": [
    "column_name = cat_processor.get_feature_names_out()\n",
    "column_name"
   ]
  },
  {
   "cell_type": "code",
   "execution_count": 13,
   "id": "60c541ed",
   "metadata": {
    "execution": {
     "iopub.execute_input": "2025-10-03T10:09:07.308627Z",
     "iopub.status.busy": "2025-10-03T10:09:07.308288Z",
     "iopub.status.idle": "2025-10-03T10:09:07.334277Z",
     "shell.execute_reply": "2025-10-03T10:09:07.333377Z"
    },
    "papermill": {
     "duration": 0.037484,
     "end_time": "2025-10-03T10:09:07.335573",
     "exception": false,
     "start_time": "2025-10-03T10:09:07.298089",
     "status": "completed"
    },
    "tags": []
   },
   "outputs": [
    {
     "data": {
      "text/html": [
       "<div>\n",
       "<style scoped>\n",
       "    .dataframe tbody tr th:only-of-type {\n",
       "        vertical-align: middle;\n",
       "    }\n",
       "\n",
       "    .dataframe tbody tr th {\n",
       "        vertical-align: top;\n",
       "    }\n",
       "\n",
       "    .dataframe thead th {\n",
       "        text-align: right;\n",
       "    }\n",
       "</style>\n",
       "<table border=\"1\" class=\"dataframe\">\n",
       "  <thead>\n",
       "    <tr style=\"text-align: right;\">\n",
       "      <th></th>\n",
       "      <th>OneHot Encode__road_type_highway</th>\n",
       "      <th>OneHot Encode__road_type_rural</th>\n",
       "      <th>OneHot Encode__road_type_urban</th>\n",
       "      <th>OneHot Encode__lighting_daylight</th>\n",
       "      <th>OneHot Encode__lighting_dim</th>\n",
       "      <th>OneHot Encode__lighting_night</th>\n",
       "      <th>OneHot Encode__weather_clear</th>\n",
       "      <th>OneHot Encode__weather_foggy</th>\n",
       "      <th>OneHot Encode__weather_rainy</th>\n",
       "      <th>OneHot Encode__time_of_day_afternoon</th>\n",
       "      <th>OneHot Encode__time_of_day_evening</th>\n",
       "      <th>OneHot Encode__time_of_day_morning</th>\n",
       "      <th>Label Encode lightning__lighting</th>\n",
       "      <th>Label Encode time__time_of_day</th>\n",
       "      <th>Road Weather Encoder__road_type_encoded</th>\n",
       "      <th>Road Weather Encoder__weather_encoded</th>\n",
       "      <th>remainder__accident_risk</th>\n",
       "    </tr>\n",
       "  </thead>\n",
       "  <tbody>\n",
       "    <tr>\n",
       "      <th>0</th>\n",
       "      <td>0.0</td>\n",
       "      <td>0.0</td>\n",
       "      <td>1.0</td>\n",
       "      <td>1.0</td>\n",
       "      <td>0.0</td>\n",
       "      <td>0.0</td>\n",
       "      <td>0.0</td>\n",
       "      <td>0.0</td>\n",
       "      <td>1.0</td>\n",
       "      <td>1.0</td>\n",
       "      <td>0.0</td>\n",
       "      <td>0.0</td>\n",
       "      <td>0.0</td>\n",
       "      <td>1.0</td>\n",
       "      <td>1.0</td>\n",
       "      <td>1.0</td>\n",
       "      <td>0.13</td>\n",
       "    </tr>\n",
       "    <tr>\n",
       "      <th>1</th>\n",
       "      <td>0.0</td>\n",
       "      <td>0.0</td>\n",
       "      <td>1.0</td>\n",
       "      <td>1.0</td>\n",
       "      <td>0.0</td>\n",
       "      <td>0.0</td>\n",
       "      <td>1.0</td>\n",
       "      <td>0.0</td>\n",
       "      <td>0.0</td>\n",
       "      <td>0.0</td>\n",
       "      <td>1.0</td>\n",
       "      <td>0.0</td>\n",
       "      <td>0.0</td>\n",
       "      <td>2.0</td>\n",
       "      <td>1.0</td>\n",
       "      <td>0.0</td>\n",
       "      <td>0.35</td>\n",
       "    </tr>\n",
       "    <tr>\n",
       "      <th>2</th>\n",
       "      <td>0.0</td>\n",
       "      <td>1.0</td>\n",
       "      <td>0.0</td>\n",
       "      <td>0.0</td>\n",
       "      <td>1.0</td>\n",
       "      <td>0.0</td>\n",
       "      <td>1.0</td>\n",
       "      <td>0.0</td>\n",
       "      <td>0.0</td>\n",
       "      <td>0.0</td>\n",
       "      <td>0.0</td>\n",
       "      <td>1.0</td>\n",
       "      <td>1.0</td>\n",
       "      <td>0.0</td>\n",
       "      <td>1.0</td>\n",
       "      <td>0.0</td>\n",
       "      <td>0.30</td>\n",
       "    </tr>\n",
       "    <tr>\n",
       "      <th>3</th>\n",
       "      <td>1.0</td>\n",
       "      <td>0.0</td>\n",
       "      <td>0.0</td>\n",
       "      <td>0.0</td>\n",
       "      <td>1.0</td>\n",
       "      <td>0.0</td>\n",
       "      <td>0.0</td>\n",
       "      <td>0.0</td>\n",
       "      <td>1.0</td>\n",
       "      <td>0.0</td>\n",
       "      <td>0.0</td>\n",
       "      <td>1.0</td>\n",
       "      <td>1.0</td>\n",
       "      <td>0.0</td>\n",
       "      <td>0.0</td>\n",
       "      <td>1.0</td>\n",
       "      <td>0.21</td>\n",
       "    </tr>\n",
       "    <tr>\n",
       "      <th>4</th>\n",
       "      <td>0.0</td>\n",
       "      <td>1.0</td>\n",
       "      <td>0.0</td>\n",
       "      <td>1.0</td>\n",
       "      <td>0.0</td>\n",
       "      <td>0.0</td>\n",
       "      <td>0.0</td>\n",
       "      <td>1.0</td>\n",
       "      <td>0.0</td>\n",
       "      <td>0.0</td>\n",
       "      <td>1.0</td>\n",
       "      <td>0.0</td>\n",
       "      <td>0.0</td>\n",
       "      <td>2.0</td>\n",
       "      <td>1.0</td>\n",
       "      <td>1.0</td>\n",
       "      <td>0.56</td>\n",
       "    </tr>\n",
       "    <tr>\n",
       "      <th>...</th>\n",
       "      <td>...</td>\n",
       "      <td>...</td>\n",
       "      <td>...</td>\n",
       "      <td>...</td>\n",
       "      <td>...</td>\n",
       "      <td>...</td>\n",
       "      <td>...</td>\n",
       "      <td>...</td>\n",
       "      <td>...</td>\n",
       "      <td>...</td>\n",
       "      <td>...</td>\n",
       "      <td>...</td>\n",
       "      <td>...</td>\n",
       "      <td>...</td>\n",
       "      <td>...</td>\n",
       "      <td>...</td>\n",
       "      <td>...</td>\n",
       "    </tr>\n",
       "    <tr>\n",
       "      <th>517749</th>\n",
       "      <td>1.0</td>\n",
       "      <td>0.0</td>\n",
       "      <td>0.0</td>\n",
       "      <td>1.0</td>\n",
       "      <td>0.0</td>\n",
       "      <td>0.0</td>\n",
       "      <td>0.0</td>\n",
       "      <td>1.0</td>\n",
       "      <td>0.0</td>\n",
       "      <td>1.0</td>\n",
       "      <td>0.0</td>\n",
       "      <td>0.0</td>\n",
       "      <td>0.0</td>\n",
       "      <td>1.0</td>\n",
       "      <td>0.0</td>\n",
       "      <td>1.0</td>\n",
       "      <td>0.32</td>\n",
       "    </tr>\n",
       "    <tr>\n",
       "      <th>517750</th>\n",
       "      <td>0.0</td>\n",
       "      <td>1.0</td>\n",
       "      <td>0.0</td>\n",
       "      <td>1.0</td>\n",
       "      <td>0.0</td>\n",
       "      <td>0.0</td>\n",
       "      <td>0.0</td>\n",
       "      <td>0.0</td>\n",
       "      <td>1.0</td>\n",
       "      <td>0.0</td>\n",
       "      <td>0.0</td>\n",
       "      <td>1.0</td>\n",
       "      <td>0.0</td>\n",
       "      <td>0.0</td>\n",
       "      <td>1.0</td>\n",
       "      <td>1.0</td>\n",
       "      <td>0.26</td>\n",
       "    </tr>\n",
       "    <tr>\n",
       "      <th>517751</th>\n",
       "      <td>0.0</td>\n",
       "      <td>0.0</td>\n",
       "      <td>1.0</td>\n",
       "      <td>1.0</td>\n",
       "      <td>0.0</td>\n",
       "      <td>0.0</td>\n",
       "      <td>0.0</td>\n",
       "      <td>1.0</td>\n",
       "      <td>0.0</td>\n",
       "      <td>1.0</td>\n",
       "      <td>0.0</td>\n",
       "      <td>0.0</td>\n",
       "      <td>0.0</td>\n",
       "      <td>1.0</td>\n",
       "      <td>1.0</td>\n",
       "      <td>1.0</td>\n",
       "      <td>0.19</td>\n",
       "    </tr>\n",
       "    <tr>\n",
       "      <th>517752</th>\n",
       "      <td>1.0</td>\n",
       "      <td>0.0</td>\n",
       "      <td>0.0</td>\n",
       "      <td>0.0</td>\n",
       "      <td>0.0</td>\n",
       "      <td>1.0</td>\n",
       "      <td>1.0</td>\n",
       "      <td>0.0</td>\n",
       "      <td>0.0</td>\n",
       "      <td>1.0</td>\n",
       "      <td>0.0</td>\n",
       "      <td>0.0</td>\n",
       "      <td>2.0</td>\n",
       "      <td>1.0</td>\n",
       "      <td>0.0</td>\n",
       "      <td>0.0</td>\n",
       "      <td>0.51</td>\n",
       "    </tr>\n",
       "    <tr>\n",
       "      <th>517753</th>\n",
       "      <td>1.0</td>\n",
       "      <td>0.0</td>\n",
       "      <td>0.0</td>\n",
       "      <td>0.0</td>\n",
       "      <td>1.0</td>\n",
       "      <td>0.0</td>\n",
       "      <td>0.0</td>\n",
       "      <td>0.0</td>\n",
       "      <td>1.0</td>\n",
       "      <td>1.0</td>\n",
       "      <td>0.0</td>\n",
       "      <td>0.0</td>\n",
       "      <td>1.0</td>\n",
       "      <td>1.0</td>\n",
       "      <td>0.0</td>\n",
       "      <td>1.0</td>\n",
       "      <td>0.22</td>\n",
       "    </tr>\n",
       "  </tbody>\n",
       "</table>\n",
       "<p>517754 rows × 17 columns</p>\n",
       "</div>"
      ],
      "text/plain": [
       "        OneHot Encode__road_type_highway  OneHot Encode__road_type_rural  \\\n",
       "0                                    0.0                             0.0   \n",
       "1                                    0.0                             0.0   \n",
       "2                                    0.0                             1.0   \n",
       "3                                    1.0                             0.0   \n",
       "4                                    0.0                             1.0   \n",
       "...                                  ...                             ...   \n",
       "517749                               1.0                             0.0   \n",
       "517750                               0.0                             1.0   \n",
       "517751                               0.0                             0.0   \n",
       "517752                               1.0                             0.0   \n",
       "517753                               1.0                             0.0   \n",
       "\n",
       "        OneHot Encode__road_type_urban  OneHot Encode__lighting_daylight  \\\n",
       "0                                  1.0                               1.0   \n",
       "1                                  1.0                               1.0   \n",
       "2                                  0.0                               0.0   \n",
       "3                                  0.0                               0.0   \n",
       "4                                  0.0                               1.0   \n",
       "...                                ...                               ...   \n",
       "517749                             0.0                               1.0   \n",
       "517750                             0.0                               1.0   \n",
       "517751                             1.0                               1.0   \n",
       "517752                             0.0                               0.0   \n",
       "517753                             0.0                               0.0   \n",
       "\n",
       "        OneHot Encode__lighting_dim  OneHot Encode__lighting_night  \\\n",
       "0                               0.0                            0.0   \n",
       "1                               0.0                            0.0   \n",
       "2                               1.0                            0.0   \n",
       "3                               1.0                            0.0   \n",
       "4                               0.0                            0.0   \n",
       "...                             ...                            ...   \n",
       "517749                          0.0                            0.0   \n",
       "517750                          0.0                            0.0   \n",
       "517751                          0.0                            0.0   \n",
       "517752                          0.0                            1.0   \n",
       "517753                          1.0                            0.0   \n",
       "\n",
       "        OneHot Encode__weather_clear  OneHot Encode__weather_foggy  \\\n",
       "0                                0.0                           0.0   \n",
       "1                                1.0                           0.0   \n",
       "2                                1.0                           0.0   \n",
       "3                                0.0                           0.0   \n",
       "4                                0.0                           1.0   \n",
       "...                              ...                           ...   \n",
       "517749                           0.0                           1.0   \n",
       "517750                           0.0                           0.0   \n",
       "517751                           0.0                           1.0   \n",
       "517752                           1.0                           0.0   \n",
       "517753                           0.0                           0.0   \n",
       "\n",
       "        OneHot Encode__weather_rainy  OneHot Encode__time_of_day_afternoon  \\\n",
       "0                                1.0                                   1.0   \n",
       "1                                0.0                                   0.0   \n",
       "2                                0.0                                   0.0   \n",
       "3                                1.0                                   0.0   \n",
       "4                                0.0                                   0.0   \n",
       "...                              ...                                   ...   \n",
       "517749                           0.0                                   1.0   \n",
       "517750                           1.0                                   0.0   \n",
       "517751                           0.0                                   1.0   \n",
       "517752                           0.0                                   1.0   \n",
       "517753                           1.0                                   1.0   \n",
       "\n",
       "        OneHot Encode__time_of_day_evening  \\\n",
       "0                                      0.0   \n",
       "1                                      1.0   \n",
       "2                                      0.0   \n",
       "3                                      0.0   \n",
       "4                                      1.0   \n",
       "...                                    ...   \n",
       "517749                                 0.0   \n",
       "517750                                 0.0   \n",
       "517751                                 0.0   \n",
       "517752                                 0.0   \n",
       "517753                                 0.0   \n",
       "\n",
       "        OneHot Encode__time_of_day_morning  Label Encode lightning__lighting  \\\n",
       "0                                      0.0                               0.0   \n",
       "1                                      0.0                               0.0   \n",
       "2                                      1.0                               1.0   \n",
       "3                                      1.0                               1.0   \n",
       "4                                      0.0                               0.0   \n",
       "...                                    ...                               ...   \n",
       "517749                                 0.0                               0.0   \n",
       "517750                                 1.0                               0.0   \n",
       "517751                                 0.0                               0.0   \n",
       "517752                                 0.0                               2.0   \n",
       "517753                                 0.0                               1.0   \n",
       "\n",
       "        Label Encode time__time_of_day  \\\n",
       "0                                  1.0   \n",
       "1                                  2.0   \n",
       "2                                  0.0   \n",
       "3                                  0.0   \n",
       "4                                  2.0   \n",
       "...                                ...   \n",
       "517749                             1.0   \n",
       "517750                             0.0   \n",
       "517751                             1.0   \n",
       "517752                             1.0   \n",
       "517753                             1.0   \n",
       "\n",
       "        Road Weather Encoder__road_type_encoded  \\\n",
       "0                                           1.0   \n",
       "1                                           1.0   \n",
       "2                                           1.0   \n",
       "3                                           0.0   \n",
       "4                                           1.0   \n",
       "...                                         ...   \n",
       "517749                                      0.0   \n",
       "517750                                      1.0   \n",
       "517751                                      1.0   \n",
       "517752                                      0.0   \n",
       "517753                                      0.0   \n",
       "\n",
       "        Road Weather Encoder__weather_encoded  remainder__accident_risk  \n",
       "0                                         1.0                      0.13  \n",
       "1                                         0.0                      0.35  \n",
       "2                                         0.0                      0.30  \n",
       "3                                         1.0                      0.21  \n",
       "4                                         1.0                      0.56  \n",
       "...                                       ...                       ...  \n",
       "517749                                    1.0                      0.32  \n",
       "517750                                    1.0                      0.26  \n",
       "517751                                    1.0                      0.19  \n",
       "517752                                    0.0                      0.51  \n",
       "517753                                    1.0                      0.22  \n",
       "\n",
       "[517754 rows x 17 columns]"
      ]
     },
     "execution_count": 13,
     "metadata": {},
     "output_type": "execute_result"
    }
   ],
   "source": [
    "transformed_cat_df = pd.DataFrame(cat_transformed, columns=column_name)\n",
    "transformed_cat_df"
   ]
  },
  {
   "cell_type": "code",
   "execution_count": 14,
   "id": "46d9e93b",
   "metadata": {
    "execution": {
     "iopub.execute_input": "2025-10-03T10:09:07.358724Z",
     "iopub.status.busy": "2025-10-03T10:09:07.358100Z",
     "iopub.status.idle": "2025-10-03T10:09:09.565087Z",
     "shell.execute_reply": "2025-10-03T10:09:09.564223Z"
    },
    "papermill": {
     "duration": 2.224621,
     "end_time": "2025-10-03T10:09:09.571651",
     "exception": false,
     "start_time": "2025-10-03T10:09:07.347030",
     "status": "completed"
    },
    "tags": []
   },
   "outputs": [
    {
     "data": {
      "image/png": "[encoded data removed]",
      "text/plain": [
       "<Figure size 1000x800 with 2 Axes>"
      ]
     },
     "metadata": {},
     "output_type": "display_data"
    }
   ],
   "source": [
    "correlation = transformed_cat_df.corr()\n",
    "plt.figure(figsize=(10, 8))\n",
    "sns.heatmap(correlation, linewidths=.3, annot=True, fmt=\".2f\")\n",
    "\n",
    "plt.show()"
   ]
  },
  {
   "cell_type": "markdown",
   "id": "f3e5ad1f",
   "metadata": {
    "papermill": {
     "duration": 0.014534,
     "end_time": "2025-10-03T10:09:09.601113",
     "exception": false,
     "start_time": "2025-10-03T10:09:09.586579",
     "status": "completed"
    },
    "tags": []
   },
   "source": [
    "**Useful Feature to keep**\n",
    "- One-hot encode of day lighting (all features)\n",
    "- One-hot encode of weather foggy/clear\n",
    "- label encode of lighting\n",
    "- label encode of weather"
   ]
  },
  {
   "cell_type": "code",
   "execution_count": 15,
   "id": "abb151fe",
   "metadata": {
    "execution": {
     "iopub.execute_input": "2025-10-03T10:09:09.631556Z",
     "iopub.status.busy": "2025-10-03T10:09:09.631251Z",
     "iopub.status.idle": "2025-10-03T10:09:09.637759Z",
     "shell.execute_reply": "2025-10-03T10:09:09.637063Z"
    },
    "papermill": {
     "duration": 0.023322,
     "end_time": "2025-10-03T10:09:09.639083",
     "exception": false,
     "start_time": "2025-10-03T10:09:09.615761",
     "status": "completed"
    },
    "tags": []
   },
   "outputs": [
    {
     "data": {
      "text/plain": [
       "[0, 1, 2, 3, 4, 5, 6, 7, 8, 9, 10, 11, 12, 13, 14, 15]"
      ]
     },
     "execution_count": 15,
     "metadata": {},
     "output_type": "execute_result"
    }
   ],
   "source": [
    "# keep_cat_col = ['OneHot Encode__lighting_daylight', \n",
    "#                 'OneHot Encode__lighting_dim',\n",
    "#                 'OneHot Encode__lighting_night', \n",
    "#                 'OneHot Encode__weather_clear',\n",
    "#                 'OneHot Encode__weather_foggy', \n",
    "#                 'Label Encode lightning__lighting',\n",
    "#                 'Road Weather Encoder__weather_encoded',\n",
    "#                ]\n",
    "\n",
    "\n",
    "original_features = column_name[:-1]\n",
    "keep_cat_col = original_features\n",
    "\n",
    "keep_cat_id = [i for i in range(len(original_features)) if original_features[i] in keep_cat_col]\n",
    "keep_cat_id"
   ]
  },
  {
   "cell_type": "code",
   "execution_count": 16,
   "id": "5ed07513",
   "metadata": {
    "execution": {
     "iopub.execute_input": "2025-10-03T10:09:09.670251Z",
     "iopub.status.busy": "2025-10-03T10:09:09.669516Z",
     "iopub.status.idle": "2025-10-03T10:09:09.674374Z",
     "shell.execute_reply": "2025-10-03T10:09:09.673686Z"
    },
    "papermill": {
     "duration": 0.021683,
     "end_time": "2025-10-03T10:09:09.675673",
     "exception": false,
     "start_time": "2025-10-03T10:09:09.653990",
     "status": "completed"
    },
    "tags": []
   },
   "outputs": [],
   "source": [
    "class ColumnFilter(BaseEstimator, TransformerMixin):\n",
    "    def __init__(self, columns):\n",
    "        self.columns = columns\n",
    "\n",
    "    def fit(self, X, y=None):\n",
    "        return self\n",
    "\n",
    "    def transform(self, X):\n",
    "        return X[:, self.columns]"
   ]
  },
  {
   "cell_type": "code",
   "execution_count": 17,
   "id": "780fae31",
   "metadata": {
    "execution": {
     "iopub.execute_input": "2025-10-03T10:09:09.706529Z",
     "iopub.status.busy": "2025-10-03T10:09:09.706024Z",
     "iopub.status.idle": "2025-10-03T10:09:10.782987Z",
     "shell.execute_reply": "2025-10-03T10:09:10.781963Z"
    },
    "papermill": {
     "duration": 1.093882,
     "end_time": "2025-10-03T10:09:10.784435",
     "exception": false,
     "start_time": "2025-10-03T10:09:09.690553",
     "status": "completed"
    },
    "tags": []
   },
   "outputs": [
    {
     "data": {
      "text/plain": [
       "(array([[0., 0., 1., ..., 1., 1., 1.],\n",
       "        [0., 0., 1., ..., 2., 1., 0.],\n",
       "        [0., 1., 0., ..., 0., 1., 0.],\n",
       "        ...,\n",
       "        [0., 0., 1., ..., 1., 1., 1.],\n",
       "        [1., 0., 0., ..., 1., 0., 0.],\n",
       "        [1., 0., 0., ..., 1., 0., 1.]]),\n",
       " (517754, 16))"
      ]
     },
     "execution_count": 17,
     "metadata": {},
     "output_type": "execute_result"
    }
   ],
   "source": [
    "cat_pipeline = Pipeline(steps=[\n",
    "    (\"Data processing\", cat_processor),\n",
    "    (\"Data cleaning\", ColumnFilter(keep_cat_id))\n",
    "])\n",
    "\n",
    "final_cat_transformed = cat_pipeline.fit_transform(categorical)\n",
    "final_cat_transformed, final_cat_transformed.shape"
   ]
  },
  {
   "cell_type": "markdown",
   "id": "25f40e3f",
   "metadata": {
    "papermill": {
     "duration": 0.014439,
     "end_time": "2025-10-03T10:09:10.813880",
     "exception": false,
     "start_time": "2025-10-03T10:09:10.799441",
     "status": "completed"
    },
    "tags": []
   },
   "source": [
    "## 2.2 Process numeric data"
   ]
  },
  {
   "cell_type": "code",
   "execution_count": 18,
   "id": "ae8bb108",
   "metadata": {
    "execution": {
     "iopub.execute_input": "2025-10-03T10:09:10.844972Z",
     "iopub.status.busy": "2025-10-03T10:09:10.844666Z",
     "iopub.status.idle": "2025-10-03T10:09:10.870568Z",
     "shell.execute_reply": "2025-10-03T10:09:10.869679Z"
    },
    "papermill": {
     "duration": 0.042922,
     "end_time": "2025-10-03T10:09:10.871885",
     "exception": false,
     "start_time": "2025-10-03T10:09:10.828963",
     "status": "completed"
    },
    "tags": []
   },
   "outputs": [
    {
     "data": {
      "text/html": [
       "<div>\n",
       "<style scoped>\n",
       "    .dataframe tbody tr th:only-of-type {\n",
       "        vertical-align: middle;\n",
       "    }\n",
       "\n",
       "    .dataframe tbody tr th {\n",
       "        vertical-align: top;\n",
       "    }\n",
       "\n",
       "    .dataframe thead th {\n",
       "        text-align: right;\n",
       "    }\n",
       "</style>\n",
       "<table border=\"1\" class=\"dataframe\">\n",
       "  <thead>\n",
       "    <tr style=\"text-align: right;\">\n",
       "      <th></th>\n",
       "      <th>num_lanes</th>\n",
       "      <th>curvature</th>\n",
       "      <th>speed_limit</th>\n",
       "      <th>num_reported_accidents</th>\n",
       "      <th>accident_risk</th>\n",
       "    </tr>\n",
       "    <tr>\n",
       "      <th>id</th>\n",
       "      <th></th>\n",
       "      <th></th>\n",
       "      <th></th>\n",
       "      <th></th>\n",
       "      <th></th>\n",
       "    </tr>\n",
       "  </thead>\n",
       "  <tbody>\n",
       "    <tr>\n",
       "      <th>0</th>\n",
       "      <td>2</td>\n",
       "      <td>0.06</td>\n",
       "      <td>35</td>\n",
       "      <td>1</td>\n",
       "      <td>0.13</td>\n",
       "    </tr>\n",
       "    <tr>\n",
       "      <th>1</th>\n",
       "      <td>4</td>\n",
       "      <td>0.99</td>\n",
       "      <td>35</td>\n",
       "      <td>0</td>\n",
       "      <td>0.35</td>\n",
       "    </tr>\n",
       "    <tr>\n",
       "      <th>2</th>\n",
       "      <td>4</td>\n",
       "      <td>0.63</td>\n",
       "      <td>70</td>\n",
       "      <td>2</td>\n",
       "      <td>0.30</td>\n",
       "    </tr>\n",
       "    <tr>\n",
       "      <th>3</th>\n",
       "      <td>4</td>\n",
       "      <td>0.07</td>\n",
       "      <td>35</td>\n",
       "      <td>1</td>\n",
       "      <td>0.21</td>\n",
       "    </tr>\n",
       "    <tr>\n",
       "      <th>4</th>\n",
       "      <td>1</td>\n",
       "      <td>0.58</td>\n",
       "      <td>60</td>\n",
       "      <td>1</td>\n",
       "      <td>0.56</td>\n",
       "    </tr>\n",
       "    <tr>\n",
       "      <th>...</th>\n",
       "      <td>...</td>\n",
       "      <td>...</td>\n",
       "      <td>...</td>\n",
       "      <td>...</td>\n",
       "      <td>...</td>\n",
       "    </tr>\n",
       "    <tr>\n",
       "      <th>517749</th>\n",
       "      <td>4</td>\n",
       "      <td>0.10</td>\n",
       "      <td>70</td>\n",
       "      <td>2</td>\n",
       "      <td>0.32</td>\n",
       "    </tr>\n",
       "    <tr>\n",
       "      <th>517750</th>\n",
       "      <td>4</td>\n",
       "      <td>0.47</td>\n",
       "      <td>35</td>\n",
       "      <td>1</td>\n",
       "      <td>0.26</td>\n",
       "    </tr>\n",
       "    <tr>\n",
       "      <th>517751</th>\n",
       "      <td>4</td>\n",
       "      <td>0.62</td>\n",
       "      <td>25</td>\n",
       "      <td>0</td>\n",
       "      <td>0.19</td>\n",
       "    </tr>\n",
       "    <tr>\n",
       "      <th>517752</th>\n",
       "      <td>3</td>\n",
       "      <td>0.63</td>\n",
       "      <td>25</td>\n",
       "      <td>3</td>\n",
       "      <td>0.51</td>\n",
       "    </tr>\n",
       "    <tr>\n",
       "      <th>517753</th>\n",
       "      <td>2</td>\n",
       "      <td>0.31</td>\n",
       "      <td>45</td>\n",
       "      <td>2</td>\n",
       "      <td>0.22</td>\n",
       "    </tr>\n",
       "  </tbody>\n",
       "</table>\n",
       "<p>517754 rows × 5 columns</p>\n",
       "</div>"
      ],
      "text/plain": [
       "        num_lanes  curvature  speed_limit  num_reported_accidents  \\\n",
       "id                                                                  \n",
       "0               2       0.06           35                       1   \n",
       "1               4       0.99           35                       0   \n",
       "2               4       0.63           70                       2   \n",
       "3               4       0.07           35                       1   \n",
       "4               1       0.58           60                       1   \n",
       "...           ...        ...          ...                     ...   \n",
       "517749          4       0.10           70                       2   \n",
       "517750          4       0.47           35                       1   \n",
       "517751          4       0.62           25                       0   \n",
       "517752          3       0.63           25                       3   \n",
       "517753          2       0.31           45                       2   \n",
       "\n",
       "        accident_risk  \n",
       "id                     \n",
       "0                0.13  \n",
       "1                0.35  \n",
       "2                0.30  \n",
       "3                0.21  \n",
       "4                0.56  \n",
       "...               ...  \n",
       "517749           0.32  \n",
       "517750           0.26  \n",
       "517751           0.19  \n",
       "517752           0.51  \n",
       "517753           0.22  \n",
       "\n",
       "[517754 rows x 5 columns]"
      ]
     },
     "execution_count": 18,
     "metadata": {},
     "output_type": "execute_result"
    }
   ],
   "source": [
    "num_col = [col for col in raw.select_dtypes(include = [\"number\"])]\n",
    "num_col.remove(\"accident_risk\")\n",
    "\n",
    "numerical = raw[num_col +[\"accident_risk\"]]\n",
    "numerical"
   ]
  },
  {
   "cell_type": "code",
   "execution_count": 19,
   "id": "cff033cf",
   "metadata": {
    "execution": {
     "iopub.execute_input": "2025-10-03T10:09:10.903709Z",
     "iopub.status.busy": "2025-10-03T10:09:10.902918Z",
     "iopub.status.idle": "2025-10-03T10:09:10.907950Z",
     "shell.execute_reply": "2025-10-03T10:09:10.907291Z"
    },
    "papermill": {
     "duration": 0.021929,
     "end_time": "2025-10-03T10:09:10.909150",
     "exception": false,
     "start_time": "2025-10-03T10:09:10.887221",
     "status": "completed"
    },
    "tags": []
   },
   "outputs": [
    {
     "data": {
      "text/plain": [
       "['num_lanes', 'curvature', 'speed_limit', 'num_reported_accidents']"
      ]
     },
     "execution_count": 19,
     "metadata": {},
     "output_type": "execute_result"
    }
   ],
   "source": [
    "num_col"
   ]
  },
  {
   "cell_type": "code",
   "execution_count": 20,
   "id": "b0a3f3b7",
   "metadata": {
    "execution": {
     "iopub.execute_input": "2025-10-03T10:09:10.940778Z",
     "iopub.status.busy": "2025-10-03T10:09:10.940495Z",
     "iopub.status.idle": "2025-10-03T10:09:11.725399Z",
     "shell.execute_reply": "2025-10-03T10:09:11.724662Z"
    },
    "papermill": {
     "duration": 0.802733,
     "end_time": "2025-10-03T10:09:11.727148",
     "exception": false,
     "start_time": "2025-10-03T10:09:10.924415",
     "status": "completed"
    },
    "tags": []
   },
   "outputs": [
    {
     "data": {
      "image/png": "[encoded data removed]",
      "text/plain": [
       "<Figure size 1000x600 with 4 Axes>"
      ]
     },
     "metadata": {},
     "output_type": "display_data"
    }
   ],
   "source": [
    "fig, axes = plt.subplots(2, 2, figsize=(10, 6))\n",
    "for count, col in enumerate(num_col):\n",
    "    axes[count%2, count//2].hist(numerical[col], bins=20)\n",
    "    axes[count%2, count//2].set_title(col)\n",
    "\n",
    "plt.tight_layout()  \n",
    "plt.show()"
   ]
  },
  {
   "cell_type": "code",
   "execution_count": 21,
   "id": "da1dd905",
   "metadata": {
    "execution": {
     "iopub.execute_input": "2025-10-03T10:09:11.762924Z",
     "iopub.status.busy": "2025-10-03T10:09:11.762411Z",
     "iopub.status.idle": "2025-10-03T10:09:12.079373Z",
     "shell.execute_reply": "2025-10-03T10:09:12.078516Z"
    },
    "papermill": {
     "duration": 0.336953,
     "end_time": "2025-10-03T10:09:12.080968",
     "exception": false,
     "start_time": "2025-10-03T10:09:11.744015",
     "status": "completed"
    },
    "tags": []
   },
   "outputs": [
    {
     "data": {
      "image/png": "[encoded data removed]",
      "text/plain": [
       "<Figure size 1000x800 with 2 Axes>"
      ]
     },
     "metadata": {},
     "output_type": "display_data"
    }
   ],
   "source": [
    "correlation = numerical.corr()\n",
    "plt.figure(figsize=(10, 8))\n",
    "sns.heatmap(correlation, linewidths=.3, annot=True, fmt=\".2f\")\n",
    "\n",
    "plt.show()"
   ]
  },
  {
   "cell_type": "code",
   "execution_count": 22,
   "id": "9f1fe73c",
   "metadata": {
    "execution": {
     "iopub.execute_input": "2025-10-03T10:09:12.116305Z",
     "iopub.status.busy": "2025-10-03T10:09:12.115634Z",
     "iopub.status.idle": "2025-10-03T10:09:12.126446Z",
     "shell.execute_reply": "2025-10-03T10:09:12.125678Z"
    },
    "papermill": {
     "duration": 0.029811,
     "end_time": "2025-10-03T10:09:12.127769",
     "exception": false,
     "start_time": "2025-10-03T10:09:12.097958",
     "status": "completed"
    },
    "tags": []
   },
   "outputs": [
    {
     "data": {
      "text/plain": [
       "num_reported_accidents\n",
       "1    209674\n",
       "2    145965\n",
       "0    125269\n",
       "3     34197\n",
       "4      2392\n",
       "5       231\n",
       "6        24\n",
       "7         2\n",
       "Name: count, dtype: int64"
      ]
     },
     "execution_count": 22,
     "metadata": {},
     "output_type": "execute_result"
    }
   ],
   "source": [
    "numerical.num_reported_accidents.value_counts()"
   ]
  },
  {
   "cell_type": "code",
   "execution_count": 23,
   "id": "63eb15ed",
   "metadata": {
    "execution": {
     "iopub.execute_input": "2025-10-03T10:09:12.163040Z",
     "iopub.status.busy": "2025-10-03T10:09:12.162506Z",
     "iopub.status.idle": "2025-10-03T10:09:12.167582Z",
     "shell.execute_reply": "2025-10-03T10:09:12.166930Z"
    },
    "papermill": {
     "duration": 0.023945,
     "end_time": "2025-10-03T10:09:12.168797",
     "exception": false,
     "start_time": "2025-10-03T10:09:12.144852",
     "status": "completed"
    },
    "tags": []
   },
   "outputs": [],
   "source": [
    "class ReportedAccidentsBin(BaseEstimator, TransformerMixin):\n",
    "    def __init__(self, column=[\"num_reported_accidents\"]):\n",
    "        self.column=column\n",
    "\n",
    "    def fit(self, X, y=None):\n",
    "        return self\n",
    "\n",
    "    def transform(self, X):\n",
    "        X[\">=4 accidents\"] = (X[self.column] >= 4).astype(int)\n",
    "        return X\n",
    "\n",
    "    def get_feature_names_out(self, input_features=None):\n",
    "        return [\">= 4 reported accidents\"]"
   ]
  },
  {
   "cell_type": "code",
   "execution_count": 24,
   "id": "e0e108b1",
   "metadata": {
    "execution": {
     "iopub.execute_input": "2025-10-03T10:09:12.204353Z",
     "iopub.status.busy": "2025-10-03T10:09:12.203663Z",
     "iopub.status.idle": "2025-10-03T10:09:12.255537Z",
     "shell.execute_reply": "2025-10-03T10:09:12.254753Z"
    },
    "papermill": {
     "duration": 0.070794,
     "end_time": "2025-10-03T10:09:12.256810",
     "exception": false,
     "start_time": "2025-10-03T10:09:12.186016",
     "status": "completed"
    },
    "tags": []
   },
   "outputs": [
    {
     "data": {
      "text/plain": [
       "(array([[1.0e+00, 0.0e+00, 2.0e+00, 6.0e-02, 3.5e+01, 1.3e-01],\n",
       "        [0.0e+00, 0.0e+00, 4.0e+00, 9.9e-01, 3.5e+01, 3.5e-01],\n",
       "        [2.0e+00, 0.0e+00, 4.0e+00, 6.3e-01, 7.0e+01, 3.0e-01],\n",
       "        ...,\n",
       "        [0.0e+00, 0.0e+00, 4.0e+00, 6.2e-01, 2.5e+01, 1.9e-01],\n",
       "        [3.0e+00, 0.0e+00, 3.0e+00, 6.3e-01, 2.5e+01, 5.1e-01],\n",
       "        [2.0e+00, 0.0e+00, 2.0e+00, 3.1e-01, 4.5e+01, 2.2e-01]]),\n",
       " (517754, 6))"
      ]
     },
     "execution_count": 24,
     "metadata": {},
     "output_type": "execute_result"
    }
   ],
   "source": [
    "num_processor = ColumnTransformer([\n",
    "    (\"Encode many reported accident\", ReportedAccidentsBin(), [\"num_reported_accidents\"])\n",
    "], remainder=\"passthrough\")\n",
    "\n",
    "transformed_num = num_processor.fit_transform(numerical)\n",
    "transformed_num, transformed_num.shape"
   ]
  },
  {
   "cell_type": "code",
   "execution_count": 25,
   "id": "1f83d3db",
   "metadata": {
    "execution": {
     "iopub.execute_input": "2025-10-03T10:09:12.292236Z",
     "iopub.status.busy": "2025-10-03T10:09:12.291917Z",
     "iopub.status.idle": "2025-10-03T10:09:12.297798Z",
     "shell.execute_reply": "2025-10-03T10:09:12.297046Z"
    },
    "papermill": {
     "duration": 0.025008,
     "end_time": "2025-10-03T10:09:12.299129",
     "exception": false,
     "start_time": "2025-10-03T10:09:12.274121",
     "status": "completed"
    },
    "tags": []
   },
   "outputs": [
    {
     "data": {
      "text/plain": [
       "array(['num_reported_accidents',\n",
       "       'Encode many reported accident__>= 4 reported accidents',\n",
       "       'remainder__num_lanes', 'remainder__curvature',\n",
       "       'remainder__speed_limit', 'remainder__accident_risk'], dtype=object)"
      ]
     },
     "execution_count": 25,
     "metadata": {},
     "output_type": "execute_result"
    }
   ],
   "source": [
    "num_processed_col = num_processor.get_feature_names_out()\n",
    "num_processed_col = np.insert(num_processed_col, 0, \"num_reported_accidents\")\n",
    "num_processed_col"
   ]
  },
  {
   "cell_type": "code",
   "execution_count": 26,
   "id": "5eddbc78",
   "metadata": {
    "execution": {
     "iopub.execute_input": "2025-10-03T10:09:12.335221Z",
     "iopub.status.busy": "2025-10-03T10:09:12.334473Z",
     "iopub.status.idle": "2025-10-03T10:09:12.348780Z",
     "shell.execute_reply": "2025-10-03T10:09:12.347931Z"
    },
    "papermill": {
     "duration": 0.033685,
     "end_time": "2025-10-03T10:09:12.350185",
     "exception": false,
     "start_time": "2025-10-03T10:09:12.316500",
     "status": "completed"
    },
    "tags": []
   },
   "outputs": [
    {
     "data": {
      "text/html": [
       "<div>\n",
       "<style scoped>\n",
       "    .dataframe tbody tr th:only-of-type {\n",
       "        vertical-align: middle;\n",
       "    }\n",
       "\n",
       "    .dataframe tbody tr th {\n",
       "        vertical-align: top;\n",
       "    }\n",
       "\n",
       "    .dataframe thead th {\n",
       "        text-align: right;\n",
       "    }\n",
       "</style>\n",
       "<table border=\"1\" class=\"dataframe\">\n",
       "  <thead>\n",
       "    <tr style=\"text-align: right;\">\n",
       "      <th></th>\n",
       "      <th>num_reported_accidents</th>\n",
       "      <th>Encode many reported accident__&gt;= 4 reported accidents</th>\n",
       "      <th>remainder__num_lanes</th>\n",
       "      <th>remainder__curvature</th>\n",
       "      <th>remainder__speed_limit</th>\n",
       "      <th>remainder__accident_risk</th>\n",
       "    </tr>\n",
       "  </thead>\n",
       "  <tbody>\n",
       "    <tr>\n",
       "      <th>0</th>\n",
       "      <td>1.0</td>\n",
       "      <td>0.0</td>\n",
       "      <td>2.0</td>\n",
       "      <td>0.06</td>\n",
       "      <td>35.0</td>\n",
       "      <td>0.13</td>\n",
       "    </tr>\n",
       "    <tr>\n",
       "      <th>1</th>\n",
       "      <td>0.0</td>\n",
       "      <td>0.0</td>\n",
       "      <td>4.0</td>\n",
       "      <td>0.99</td>\n",
       "      <td>35.0</td>\n",
       "      <td>0.35</td>\n",
       "    </tr>\n",
       "    <tr>\n",
       "      <th>2</th>\n",
       "      <td>2.0</td>\n",
       "      <td>0.0</td>\n",
       "      <td>4.0</td>\n",
       "      <td>0.63</td>\n",
       "      <td>70.0</td>\n",
       "      <td>0.30</td>\n",
       "    </tr>\n",
       "    <tr>\n",
       "      <th>3</th>\n",
       "      <td>1.0</td>\n",
       "      <td>0.0</td>\n",
       "      <td>4.0</td>\n",
       "      <td>0.07</td>\n",
       "      <td>35.0</td>\n",
       "      <td>0.21</td>\n",
       "    </tr>\n",
       "    <tr>\n",
       "      <th>4</th>\n",
       "      <td>1.0</td>\n",
       "      <td>0.0</td>\n",
       "      <td>1.0</td>\n",
       "      <td>0.58</td>\n",
       "      <td>60.0</td>\n",
       "      <td>0.56</td>\n",
       "    </tr>\n",
       "    <tr>\n",
       "      <th>...</th>\n",
       "      <td>...</td>\n",
       "      <td>...</td>\n",
       "      <td>...</td>\n",
       "      <td>...</td>\n",
       "      <td>...</td>\n",
       "      <td>...</td>\n",
       "    </tr>\n",
       "    <tr>\n",
       "      <th>517749</th>\n",
       "      <td>2.0</td>\n",
       "      <td>0.0</td>\n",
       "      <td>4.0</td>\n",
       "      <td>0.10</td>\n",
       "      <td>70.0</td>\n",
       "      <td>0.32</td>\n",
       "    </tr>\n",
       "    <tr>\n",
       "      <th>517750</th>\n",
       "      <td>1.0</td>\n",
       "      <td>0.0</td>\n",
       "      <td>4.0</td>\n",
       "      <td>0.47</td>\n",
       "      <td>35.0</td>\n",
       "      <td>0.26</td>\n",
       "    </tr>\n",
       "    <tr>\n",
       "      <th>517751</th>\n",
       "      <td>0.0</td>\n",
       "      <td>0.0</td>\n",
       "      <td>4.0</td>\n",
       "      <td>0.62</td>\n",
       "      <td>25.0</td>\n",
       "      <td>0.19</td>\n",
       "    </tr>\n",
       "    <tr>\n",
       "      <th>517752</th>\n",
       "      <td>3.0</td>\n",
       "      <td>0.0</td>\n",
       "      <td>3.0</td>\n",
       "      <td>0.63</td>\n",
       "      <td>25.0</td>\n",
       "      <td>0.51</td>\n",
       "    </tr>\n",
       "    <tr>\n",
       "      <th>517753</th>\n",
       "      <td>2.0</td>\n",
       "      <td>0.0</td>\n",
       "      <td>2.0</td>\n",
       "      <td>0.31</td>\n",
       "      <td>45.0</td>\n",
       "      <td>0.22</td>\n",
       "    </tr>\n",
       "  </tbody>\n",
       "</table>\n",
       "<p>517754 rows × 6 columns</p>\n",
       "</div>"
      ],
      "text/plain": [
       "        num_reported_accidents  \\\n",
       "0                          1.0   \n",
       "1                          0.0   \n",
       "2                          2.0   \n",
       "3                          1.0   \n",
       "4                          1.0   \n",
       "...                        ...   \n",
       "517749                     2.0   \n",
       "517750                     1.0   \n",
       "517751                     0.0   \n",
       "517752                     3.0   \n",
       "517753                     2.0   \n",
       "\n",
       "        Encode many reported accident__>= 4 reported accidents  \\\n",
       "0                                                     0.0        \n",
       "1                                                     0.0        \n",
       "2                                                     0.0        \n",
       "3                                                     0.0        \n",
       "4                                                     0.0        \n",
       "...                                                   ...        \n",
       "517749                                                0.0        \n",
       "517750                                                0.0        \n",
       "517751                                                0.0        \n",
       "517752                                                0.0        \n",
       "517753                                                0.0        \n",
       "\n",
       "        remainder__num_lanes  remainder__curvature  remainder__speed_limit  \\\n",
       "0                        2.0                  0.06                    35.0   \n",
       "1                        4.0                  0.99                    35.0   \n",
       "2                        4.0                  0.63                    70.0   \n",
       "3                        4.0                  0.07                    35.0   \n",
       "4                        1.0                  0.58                    60.0   \n",
       "...                      ...                   ...                     ...   \n",
       "517749                   4.0                  0.10                    70.0   \n",
       "517750                   4.0                  0.47                    35.0   \n",
       "517751                   4.0                  0.62                    25.0   \n",
       "517752                   3.0                  0.63                    25.0   \n",
       "517753                   2.0                  0.31                    45.0   \n",
       "\n",
       "        remainder__accident_risk  \n",
       "0                           0.13  \n",
       "1                           0.35  \n",
       "2                           0.30  \n",
       "3                           0.21  \n",
       "4                           0.56  \n",
       "...                          ...  \n",
       "517749                      0.32  \n",
       "517750                      0.26  \n",
       "517751                      0.19  \n",
       "517752                      0.51  \n",
       "517753                      0.22  \n",
       "\n",
       "[517754 rows x 6 columns]"
      ]
     },
     "execution_count": 26,
     "metadata": {},
     "output_type": "execute_result"
    }
   ],
   "source": [
    "processed_num_df = pd.DataFrame(transformed_num, columns=num_processed_col)\n",
    "processed_num_df"
   ]
  },
  {
   "cell_type": "code",
   "execution_count": 27,
   "id": "50862b96",
   "metadata": {
    "execution": {
     "iopub.execute_input": "2025-10-03T10:09:12.388187Z",
     "iopub.status.busy": "2025-10-03T10:09:12.387449Z",
     "iopub.status.idle": "2025-10-03T10:09:12.765090Z",
     "shell.execute_reply": "2025-10-03T10:09:12.764189Z"
    },
    "papermill": {
     "duration": 0.397808,
     "end_time": "2025-10-03T10:09:12.766725",
     "exception": false,
     "start_time": "2025-10-03T10:09:12.368917",
     "status": "completed"
    },
    "tags": []
   },
   "outputs": [
    {
     "data": {
      "image/png": "[encoded data removed]",
      "text/plain": [
       "<Figure size 800x500 with 2 Axes>"
      ]
     },
     "metadata": {},
     "output_type": "display_data"
    }
   ],
   "source": [
    "correlation = processed_num_df.corr()\n",
    "plt.figure(figsize=(8, 5))\n",
    "sns.heatmap(correlation, linewidths=.3, annot=True, fmt=\".2f\")\n",
    "\n",
    "plt.show()"
   ]
  },
  {
   "cell_type": "markdown",
   "id": "0248a63d",
   "metadata": {
    "papermill": {
     "duration": 0.018485,
     "end_time": "2025-10-03T10:09:12.804222",
     "exception": false,
     "start_time": "2025-10-03T10:09:12.785737",
     "status": "completed"
    },
    "tags": []
   },
   "source": [
    "## 2.3 Process Boolean data"
   ]
  },
  {
   "cell_type": "code",
   "execution_count": 28,
   "id": "8a0f34b6",
   "metadata": {
    "execution": {
     "iopub.execute_input": "2025-10-03T10:09:12.843383Z",
     "iopub.status.busy": "2025-10-03T10:09:12.843069Z",
     "iopub.status.idle": "2025-10-03T10:09:12.889363Z",
     "shell.execute_reply": "2025-10-03T10:09:12.888553Z"
    },
    "papermill": {
     "duration": 0.067848,
     "end_time": "2025-10-03T10:09:12.890788",
     "exception": false,
     "start_time": "2025-10-03T10:09:12.822940",
     "status": "completed"
    },
    "tags": []
   },
   "outputs": [
    {
     "data": {
      "text/plain": [
       "(array([[1.0e+00, 0.0e+00, 2.0e+00, 6.0e-02, 3.5e+01, 1.3e-01],\n",
       "        [0.0e+00, 0.0e+00, 4.0e+00, 9.9e-01, 3.5e+01, 3.5e-01],\n",
       "        [2.0e+00, 0.0e+00, 4.0e+00, 6.3e-01, 7.0e+01, 3.0e-01],\n",
       "        ...,\n",
       "        [0.0e+00, 0.0e+00, 4.0e+00, 6.2e-01, 2.5e+01, 1.9e-01],\n",
       "        [3.0e+00, 0.0e+00, 3.0e+00, 6.3e-01, 2.5e+01, 5.1e-01],\n",
       "        [2.0e+00, 0.0e+00, 2.0e+00, 3.1e-01, 4.5e+01, 2.2e-01]]),\n",
       " (517754, 6))"
      ]
     },
     "execution_count": 28,
     "metadata": {},
     "output_type": "execute_result"
    }
   ],
   "source": [
    "num_pipeline = Pipeline([\n",
    "    (\"process numerical data\", num_processor)\n",
    "])\n",
    "\n",
    "final_num_transformed = num_pipeline.fit_transform(numerical)\n",
    "final_num_transformed, final_num_transformed.shape"
   ]
  },
  {
   "cell_type": "code",
   "execution_count": 29,
   "id": "f190dbf2",
   "metadata": {
    "execution": {
     "iopub.execute_input": "2025-10-03T10:09:12.930581Z",
     "iopub.status.busy": "2025-10-03T10:09:12.930298Z",
     "iopub.status.idle": "2025-10-03T10:09:12.954299Z",
     "shell.execute_reply": "2025-10-03T10:09:12.953442Z"
    },
    "papermill": {
     "duration": 0.045627,
     "end_time": "2025-10-03T10:09:12.955705",
     "exception": false,
     "start_time": "2025-10-03T10:09:12.910078",
     "status": "completed"
    },
    "tags": []
   },
   "outputs": [
    {
     "data": {
      "text/html": [
       "<div>\n",
       "<style scoped>\n",
       "    .dataframe tbody tr th:only-of-type {\n",
       "        vertical-align: middle;\n",
       "    }\n",
       "\n",
       "    .dataframe tbody tr th {\n",
       "        vertical-align: top;\n",
       "    }\n",
       "\n",
       "    .dataframe thead th {\n",
       "        text-align: right;\n",
       "    }\n",
       "</style>\n",
       "<table border=\"1\" class=\"dataframe\">\n",
       "  <thead>\n",
       "    <tr style=\"text-align: right;\">\n",
       "      <th></th>\n",
       "      <th>road_signs_present</th>\n",
       "      <th>public_road</th>\n",
       "      <th>holiday</th>\n",
       "      <th>school_season</th>\n",
       "      <th>accident_risk</th>\n",
       "    </tr>\n",
       "    <tr>\n",
       "      <th>id</th>\n",
       "      <th></th>\n",
       "      <th></th>\n",
       "      <th></th>\n",
       "      <th></th>\n",
       "      <th></th>\n",
       "    </tr>\n",
       "  </thead>\n",
       "  <tbody>\n",
       "    <tr>\n",
       "      <th>0</th>\n",
       "      <td>0</td>\n",
       "      <td>1</td>\n",
       "      <td>0</td>\n",
       "      <td>1</td>\n",
       "      <td>0</td>\n",
       "    </tr>\n",
       "    <tr>\n",
       "      <th>1</th>\n",
       "      <td>1</td>\n",
       "      <td>0</td>\n",
       "      <td>1</td>\n",
       "      <td>1</td>\n",
       "      <td>0</td>\n",
       "    </tr>\n",
       "    <tr>\n",
       "      <th>2</th>\n",
       "      <td>0</td>\n",
       "      <td>1</td>\n",
       "      <td>1</td>\n",
       "      <td>0</td>\n",
       "      <td>0</td>\n",
       "    </tr>\n",
       "    <tr>\n",
       "      <th>3</th>\n",
       "      <td>1</td>\n",
       "      <td>1</td>\n",
       "      <td>0</td>\n",
       "      <td>0</td>\n",
       "      <td>0</td>\n",
       "    </tr>\n",
       "    <tr>\n",
       "      <th>4</th>\n",
       "      <td>0</td>\n",
       "      <td>0</td>\n",
       "      <td>1</td>\n",
       "      <td>0</td>\n",
       "      <td>0</td>\n",
       "    </tr>\n",
       "    <tr>\n",
       "      <th>...</th>\n",
       "      <td>...</td>\n",
       "      <td>...</td>\n",
       "      <td>...</td>\n",
       "      <td>...</td>\n",
       "      <td>...</td>\n",
       "    </tr>\n",
       "    <tr>\n",
       "      <th>517749</th>\n",
       "      <td>1</td>\n",
       "      <td>1</td>\n",
       "      <td>0</td>\n",
       "      <td>0</td>\n",
       "      <td>0</td>\n",
       "    </tr>\n",
       "    <tr>\n",
       "      <th>517750</th>\n",
       "      <td>1</td>\n",
       "      <td>1</td>\n",
       "      <td>0</td>\n",
       "      <td>0</td>\n",
       "      <td>0</td>\n",
       "    </tr>\n",
       "    <tr>\n",
       "      <th>517751</th>\n",
       "      <td>0</td>\n",
       "      <td>0</td>\n",
       "      <td>0</td>\n",
       "      <td>1</td>\n",
       "      <td>0</td>\n",
       "    </tr>\n",
       "    <tr>\n",
       "      <th>517752</th>\n",
       "      <td>1</td>\n",
       "      <td>0</td>\n",
       "      <td>1</td>\n",
       "      <td>1</td>\n",
       "      <td>0</td>\n",
       "    </tr>\n",
       "    <tr>\n",
       "      <th>517753</th>\n",
       "      <td>0</td>\n",
       "      <td>1</td>\n",
       "      <td>1</td>\n",
       "      <td>1</td>\n",
       "      <td>0</td>\n",
       "    </tr>\n",
       "  </tbody>\n",
       "</table>\n",
       "<p>517754 rows × 5 columns</p>\n",
       "</div>"
      ],
      "text/plain": [
       "        road_signs_present  public_road  holiday  school_season  accident_risk\n",
       "id                                                                            \n",
       "0                        0            1        0              1              0\n",
       "1                        1            0        1              1              0\n",
       "2                        0            1        1              0              0\n",
       "3                        1            1        0              0              0\n",
       "4                        0            0        1              0              0\n",
       "...                    ...          ...      ...            ...            ...\n",
       "517749                   1            1        0              0              0\n",
       "517750                   1            1        0              0              0\n",
       "517751                   0            0        0              1              0\n",
       "517752                   1            0        1              1              0\n",
       "517753                   0            1        1              1              0\n",
       "\n",
       "[517754 rows x 5 columns]"
      ]
     },
     "execution_count": 29,
     "metadata": {},
     "output_type": "execute_result"
    }
   ],
   "source": [
    "boo_col = [col for col in raw.select_dtypes(include = [\"boolean\"])]\n",
    "\n",
    "boolean = raw[boo_col +[\"accident_risk\"]]\n",
    "boolean = boolean.astype(int)\n",
    "boolean"
   ]
  },
  {
   "cell_type": "code",
   "execution_count": 30,
   "id": "849e3f1e",
   "metadata": {
    "execution": {
     "iopub.execute_input": "2025-10-03T10:09:12.996598Z",
     "iopub.status.busy": "2025-10-03T10:09:12.995960Z",
     "iopub.status.idle": "2025-10-03T10:09:13.291300Z",
     "shell.execute_reply": "2025-10-03T10:09:13.290448Z"
    },
    "papermill": {
     "duration": 0.317531,
     "end_time": "2025-10-03T10:09:13.292840",
     "exception": false,
     "start_time": "2025-10-03T10:09:12.975309",
     "status": "completed"
    },
    "tags": []
   },
   "outputs": [
    {
     "data": {
      "image/png": "[encoded data removed]",
      "text/plain": [
       "<Figure size 800x500 with 2 Axes>"
      ]
     },
     "metadata": {},
     "output_type": "display_data"
    }
   ],
   "source": [
    "correlation = boolean.corr()\n",
    "plt.figure(figsize=(8, 5))\n",
    "sns.heatmap(correlation, linewidths=.3, annot=True, fmt=\".3f\")\n",
    "\n",
    "plt.show()"
   ]
  },
  {
   "cell_type": "code",
   "execution_count": 31,
   "id": "2f1883db",
   "metadata": {
    "execution": {
     "iopub.execute_input": "2025-10-03T10:09:13.335802Z",
     "iopub.status.busy": "2025-10-03T10:09:13.335497Z",
     "iopub.status.idle": "2025-10-03T10:09:13.383071Z",
     "shell.execute_reply": "2025-10-03T10:09:13.382236Z"
    },
    "papermill": {
     "duration": 0.070679,
     "end_time": "2025-10-03T10:09:13.384460",
     "exception": false,
     "start_time": "2025-10-03T10:09:13.313781",
     "status": "completed"
    },
    "tags": []
   },
   "outputs": [
    {
     "data": {
      "text/html": [
       "<div>\n",
       "<style scoped>\n",
       "    .dataframe tbody tr th:only-of-type {\n",
       "        vertical-align: middle;\n",
       "    }\n",
       "\n",
       "    .dataframe tbody tr th {\n",
       "        vertical-align: top;\n",
       "    }\n",
       "\n",
       "    .dataframe thead th {\n",
       "        text-align: right;\n",
       "    }\n",
       "</style>\n",
       "<table border=\"1\" class=\"dataframe\">\n",
       "  <thead>\n",
       "    <tr style=\"text-align: right;\">\n",
       "      <th></th>\n",
       "      <th>road_signs_present</th>\n",
       "      <th>public_road</th>\n",
       "      <th>holiday</th>\n",
       "      <th>school_season</th>\n",
       "    </tr>\n",
       "    <tr>\n",
       "      <th>id</th>\n",
       "      <th></th>\n",
       "      <th></th>\n",
       "      <th></th>\n",
       "      <th></th>\n",
       "    </tr>\n",
       "  </thead>\n",
       "  <tbody>\n",
       "    <tr>\n",
       "      <th>0</th>\n",
       "      <td>0</td>\n",
       "      <td>1</td>\n",
       "      <td>0</td>\n",
       "      <td>1</td>\n",
       "    </tr>\n",
       "    <tr>\n",
       "      <th>1</th>\n",
       "      <td>1</td>\n",
       "      <td>0</td>\n",
       "      <td>1</td>\n",
       "      <td>1</td>\n",
       "    </tr>\n",
       "    <tr>\n",
       "      <th>2</th>\n",
       "      <td>0</td>\n",
       "      <td>1</td>\n",
       "      <td>1</td>\n",
       "      <td>0</td>\n",
       "    </tr>\n",
       "    <tr>\n",
       "      <th>3</th>\n",
       "      <td>1</td>\n",
       "      <td>1</td>\n",
       "      <td>0</td>\n",
       "      <td>0</td>\n",
       "    </tr>\n",
       "    <tr>\n",
       "      <th>4</th>\n",
       "      <td>0</td>\n",
       "      <td>0</td>\n",
       "      <td>1</td>\n",
       "      <td>0</td>\n",
       "    </tr>\n",
       "    <tr>\n",
       "      <th>...</th>\n",
       "      <td>...</td>\n",
       "      <td>...</td>\n",
       "      <td>...</td>\n",
       "      <td>...</td>\n",
       "    </tr>\n",
       "    <tr>\n",
       "      <th>517749</th>\n",
       "      <td>1</td>\n",
       "      <td>1</td>\n",
       "      <td>0</td>\n",
       "      <td>0</td>\n",
       "    </tr>\n",
       "    <tr>\n",
       "      <th>517750</th>\n",
       "      <td>1</td>\n",
       "      <td>1</td>\n",
       "      <td>0</td>\n",
       "      <td>0</td>\n",
       "    </tr>\n",
       "    <tr>\n",
       "      <th>517751</th>\n",
       "      <td>0</td>\n",
       "      <td>0</td>\n",
       "      <td>0</td>\n",
       "      <td>1</td>\n",
       "    </tr>\n",
       "    <tr>\n",
       "      <th>517752</th>\n",
       "      <td>1</td>\n",
       "      <td>0</td>\n",
       "      <td>1</td>\n",
       "      <td>1</td>\n",
       "    </tr>\n",
       "    <tr>\n",
       "      <th>517753</th>\n",
       "      <td>0</td>\n",
       "      <td>1</td>\n",
       "      <td>1</td>\n",
       "      <td>1</td>\n",
       "    </tr>\n",
       "  </tbody>\n",
       "</table>\n",
       "<p>517754 rows × 4 columns</p>\n",
       "</div>"
      ],
      "text/plain": [
       "        road_signs_present  public_road  holiday  school_season\n",
       "id                                                             \n",
       "0                        0            1        0              1\n",
       "1                        1            0        1              1\n",
       "2                        0            1        1              0\n",
       "3                        1            1        0              0\n",
       "4                        0            0        1              0\n",
       "...                    ...          ...      ...            ...\n",
       "517749                   1            1        0              0\n",
       "517750                   1            1        0              0\n",
       "517751                   0            0        0              1\n",
       "517752                   1            0        1              1\n",
       "517753                   0            1        1              1\n",
       "\n",
       "[517754 rows x 4 columns]"
      ]
     },
     "execution_count": 31,
     "metadata": {},
     "output_type": "execute_result"
    }
   ],
   "source": [
    "from sklearn.base import BaseEstimator, TransformerMixin\n",
    "import pandas as pd\n",
    "from sklearn.pipeline import Pipeline\n",
    "\n",
    "class BooleanToInt(BaseEstimator, TransformerMixin):\n",
    "    def __init__(self, columns=None):\n",
    "        self.columns = columns \n",
    "    \n",
    "    def fit(self, X, y=None):\n",
    "        return self\n",
    "    \n",
    "    def transform(self, X):\n",
    "        X = X.copy()\n",
    "        for col in self.columns:\n",
    "            X[col] = X[col].astype(int)\n",
    "        return X[self.columns]\n",
    "    \n",
    "\n",
    "\n",
    "boo_pipeline = Pipeline([\n",
    "    (\"bool_to_int\", BooleanToInt(columns=boo_col))\n",
    "])\n",
    "\n",
    "final_transformed_boo = boo_pipeline.fit_transform(boolean)\n",
    "final_transformed_boo"
   ]
  },
  {
   "cell_type": "markdown",
   "id": "dc74f89a",
   "metadata": {
    "papermill": {
     "duration": 0.019633,
     "end_time": "2025-10-03T10:09:13.424339",
     "exception": false,
     "start_time": "2025-10-03T10:09:13.404706",
     "status": "completed"
    },
    "tags": []
   },
   "source": [
    "### 2.4 Process all data"
   ]
  },
  {
   "cell_type": "code",
   "execution_count": 32,
   "id": "75248b92",
   "metadata": {
    "execution": {
     "iopub.execute_input": "2025-10-03T10:09:13.465489Z",
     "iopub.status.busy": "2025-10-03T10:09:13.465190Z",
     "iopub.status.idle": "2025-10-03T10:09:15.027582Z",
     "shell.execute_reply": "2025-10-03T10:09:15.026772Z"
    },
    "papermill": {
     "duration": 1.584608,
     "end_time": "2025-10-03T10:09:15.028974",
     "exception": false,
     "start_time": "2025-10-03T10:09:13.444366",
     "status": "completed"
    },
    "tags": []
   },
   "outputs": [
    {
     "name": "stdout",
     "output_type": "stream",
     "text": [
      "(517754, 12) (517754,)\n"
     ]
    },
    {
     "data": {
      "text/plain": [
       "(array([[-0.71045067, -0.70751961,  1.42175502, ...,  0.99549834,\n",
       "         -1.00702024,  1.00498389],\n",
       "        [-0.71045067, -0.70751961,  1.42175502, ..., -1.00452202,\n",
       "          0.9930287 ,  1.00498389],\n",
       "        [-0.71045067,  1.41338839, -0.70335605, ...,  0.99549834,\n",
       "          0.9930287 , -0.99504082],\n",
       "        ...,\n",
       "        [-0.71045067, -0.70751961,  1.42175502, ..., -1.00452202,\n",
       "         -1.00702024,  1.00498389],\n",
       "        [ 1.40755727, -0.70751961, -0.70335605, ..., -1.00452202,\n",
       "          0.9930287 ,  1.00498389],\n",
       "        [ 1.40755727, -0.70751961, -0.70335605, ...,  0.99549834,\n",
       "          0.9930287 ,  1.00498389]]),\n",
       " (517754, 25))"
      ]
     },
     "execution_count": 32,
     "metadata": {},
     "output_type": "execute_result"
    }
   ],
   "source": [
    "from sklearn.preprocessing import StandardScaler\n",
    "\n",
    "data, target = raw.drop(columns=[\"accident_risk\"]), raw[\"accident_risk\"]\n",
    "print(data.shape, target.shape)\n",
    "\n",
    "transformer = ColumnTransformer([\n",
    "    (\"Categorical\", cat_pipeline, cat_col),\n",
    "    (\"Numerical\", num_pipeline, num_col),\n",
    "    (\"Boolean\", boo_pipeline, boo_col)\n",
    "    \n",
    "])\n",
    "\n",
    "pipeline = Pipeline([\n",
    "    (\"Transformer\", transformer),\n",
    "    (\"Scaling\", StandardScaler())\n",
    "])\n",
    "\n",
    "processed_data = pipeline.fit_transform(data)\n",
    "processed_data, processed_data.shape"
   ]
  },
  {
   "cell_type": "markdown",
   "id": "ec463e3d",
   "metadata": {
    "papermill": {
     "duration": 0.020028,
     "end_time": "2025-10-03T10:09:15.069530",
     "exception": false,
     "start_time": "2025-10-03T10:09:15.049502",
     "status": "completed"
    },
    "tags": []
   },
   "source": [
    "# 3. Model"
   ]
  },
  {
   "cell_type": "code",
   "execution_count": 33,
   "id": "4c9bd895",
   "metadata": {
    "execution": {
     "iopub.execute_input": "2025-10-03T10:09:15.111974Z",
     "iopub.status.busy": "2025-10-03T10:09:15.111463Z",
     "iopub.status.idle": "2025-10-03T10:09:15.116687Z",
     "shell.execute_reply": "2025-10-03T10:09:15.115908Z"
    },
    "papermill": {
     "duration": 0.027755,
     "end_time": "2025-10-03T10:09:15.117907",
     "exception": false,
     "start_time": "2025-10-03T10:09:15.090152",
     "status": "completed"
    },
    "tags": []
   },
   "outputs": [
    {
     "data": {
      "text/plain": [
       "((517754, 25), (517754,))"
      ]
     },
     "execution_count": 33,
     "metadata": {},
     "output_type": "execute_result"
    }
   ],
   "source": [
    "X, y = processed_data, target\n",
    "X.shape, y.shape"
   ]
  },
  {
   "cell_type": "code",
   "execution_count": 34,
   "id": "17bd661d",
   "metadata": {
    "execution": {
     "iopub.execute_input": "2025-10-03T10:09:15.160316Z",
     "iopub.status.busy": "2025-10-03T10:09:15.159775Z",
     "iopub.status.idle": "2025-10-03T10:09:20.753707Z",
     "shell.execute_reply": "2025-10-03T10:09:20.752767Z"
    },
    "papermill": {
     "duration": 5.616861,
     "end_time": "2025-10-03T10:09:20.755131",
     "exception": false,
     "start_time": "2025-10-03T10:09:15.138270",
     "status": "completed"
    },
    "tags": []
   },
   "outputs": [
    {
     "data": {
      "text/plain": [
       "((465978, 25), (465978,), (51776, 25), (51776,))"
      ]
     },
     "execution_count": 34,
     "metadata": {},
     "output_type": "execute_result"
    }
   ],
   "source": [
    "from sklearn.ensemble import RandomForestRegressor\n",
    "from sklearn.linear_model import LinearRegression\n",
    "from sklearn.model_selection import train_test_split, cross_val_score, KFold, RandomizedSearchCV\n",
    "from sklearn.metrics import mean_squared_error, make_scorer\n",
    "from sklearn.tree import DecisionTreeRegressor\n",
    "import lightgbm as lgb\n",
    "\n",
    "X_train, X_val, y_train, y_val = train_test_split(X, y, random_state=42, test_size=0.1)\n",
    "X_train.shape, y_train.shape, X_val.shape, y_val.shape"
   ]
  },
  {
   "cell_type": "code",
   "execution_count": 35,
   "id": "c24d200b",
   "metadata": {
    "execution": {
     "iopub.execute_input": "2025-10-03T10:09:20.798195Z",
     "iopub.status.busy": "2025-10-03T10:09:20.797289Z",
     "iopub.status.idle": "2025-10-03T10:09:20.801786Z",
     "shell.execute_reply": "2025-10-03T10:09:20.801031Z"
    },
    "papermill": {
     "duration": 0.027174,
     "end_time": "2025-10-03T10:09:20.803044",
     "exception": false,
     "start_time": "2025-10-03T10:09:20.775870",
     "status": "completed"
    },
    "tags": []
   },
   "outputs": [],
   "source": [
    "def rmse(y_true, y_pred):\n",
    "    return np.sqrt(mean_squared_error(y_true, y_pred))\n",
    "\n",
    "rmse_scorer = make_scorer(rmse, greater_is_better=False)"
   ]
  },
  {
   "cell_type": "code",
   "execution_count": 36,
   "id": "a4243bc1",
   "metadata": {
    "execution": {
     "iopub.execute_input": "2025-10-03T10:09:20.847917Z",
     "iopub.status.busy": "2025-10-03T10:09:20.847608Z",
     "iopub.status.idle": "2025-10-03T10:09:20.852683Z",
     "shell.execute_reply": "2025-10-03T10:09:20.851087Z"
    },
    "papermill": {
     "duration": 0.028994,
     "end_time": "2025-10-03T10:09:20.854040",
     "exception": false,
     "start_time": "2025-10-03T10:09:20.825046",
     "status": "completed"
    },
    "tags": []
   },
   "outputs": [],
   "source": [
    "model = lgb.LGBMRegressor(n_estimators=50)"
   ]
  },
  {
   "cell_type": "code",
   "execution_count": 37,
   "id": "b8aaec9d",
   "metadata": {
    "execution": {
     "iopub.execute_input": "2025-10-03T10:09:20.896680Z",
     "iopub.status.busy": "2025-10-03T10:09:20.896401Z",
     "iopub.status.idle": "2025-10-03T10:09:39.273183Z",
     "shell.execute_reply": "2025-10-03T10:09:39.272476Z"
    },
    "papermill": {
     "duration": 18.399791,
     "end_time": "2025-10-03T10:09:39.274808",
     "exception": false,
     "start_time": "2025-10-03T10:09:20.875017",
     "status": "completed"
    },
    "tags": []
   },
   "outputs": [],
   "source": [
    "cv = KFold(n_splits=5, shuffle=True, random_state=42)\n",
    "baseline_score = cross_val_score(model, X, y, cv=cv, scoring=rmse_scorer, n_jobs=-1)"
   ]
  },
  {
   "cell_type": "code",
   "execution_count": 38,
   "id": "10eebd74",
   "metadata": {
    "execution": {
     "iopub.execute_input": "2025-10-03T10:09:39.317389Z",
     "iopub.status.busy": "2025-10-03T10:09:39.316844Z",
     "iopub.status.idle": "2025-10-03T10:09:39.321862Z",
     "shell.execute_reply": "2025-10-03T10:09:39.320960Z"
    },
    "papermill": {
     "duration": 0.02757,
     "end_time": "2025-10-03T10:09:39.323097",
     "exception": false,
     "start_time": "2025-10-03T10:09:39.295527",
     "status": "completed"
    },
    "tags": []
   },
   "outputs": [
    {
     "name": "stdout",
     "output_type": "stream",
     "text": [
      "Baseline RMSE (5-fold): 0.05638863317638837 ± 0.00010098729023572361\n"
     ]
    }
   ],
   "source": [
    "print(\"Baseline RMSE (5-fold):\", -baseline_score.mean(), \"±\", baseline_score.std())"
   ]
  },
  {
   "cell_type": "code",
   "execution_count": 39,
   "id": "b379ca2a",
   "metadata": {
    "execution": {
     "iopub.execute_input": "2025-10-03T10:09:39.366026Z",
     "iopub.status.busy": "2025-10-03T10:09:39.365717Z",
     "iopub.status.idle": "2025-10-03T10:09:39.371090Z",
     "shell.execute_reply": "2025-10-03T10:09:39.370298Z"
    },
    "papermill": {
     "duration": 0.028855,
     "end_time": "2025-10-03T10:09:39.372543",
     "exception": false,
     "start_time": "2025-10-03T10:09:39.343688",
     "status": "completed"
    },
    "tags": []
   },
   "outputs": [],
   "source": [
    "param_dist = {\n",
    "    \"n_estimators\": [100, 300, 500],        # fewer boosting rounds, avoid 1000 unless CV says so\n",
    "    \"num_leaves\": [7, 15, 31],              # smaller trees, prevents overfitting\n",
    "    \"learning_rate\": [0.01, 0.05, 0.1],     # keep range\n",
    "    \"max_depth\": [-1, 3, 6],                # shallow depth (-1 means no limit, but with small data, 3-6 is good)\n",
    "    \"subsample\": [0.8, 1.0],                # row sampling, reduces variance\n",
    "    \"colsample_bytree\": [0.8, 1.0],         # feature sampling\n",
    "    \"min_child_samples\": [5, 10, 20],       # VERY important for small data, allow small leaves\n",
    "    \"reg_alpha\": [0.0, 0.1, 1.0],           # L1 regularization\n",
    "    \"reg_lambda\": [0.0, 0.1, 1.0]           # L2 regularization\n",
    "}\n",
    "\n",
    "randomSearch = RandomizedSearchCV(\n",
    "    model,\n",
    "    param_distributions=param_dist,\n",
    "    n_iter=4,\n",
    "    scoring=rmse_scorer,\n",
    "    cv=cv,\n",
    "    random_state=42,\n",
    "    verbose=1,\n",
    "    n_jobs=-1\n",
    ")"
   ]
  },
  {
   "cell_type": "code",
   "execution_count": 40,
   "id": "98298f78",
   "metadata": {
    "collapsed": true,
    "execution": {
     "iopub.execute_input": "2025-10-03T10:09:39.414856Z",
     "iopub.status.busy": "2025-10-03T10:09:39.414562Z",
     "iopub.status.idle": "2025-10-03T10:12:00.036874Z",
     "shell.execute_reply": "2025-10-03T10:12:00.035986Z"
    },
    "jupyter": {
     "outputs_hidden": true
    },
    "papermill": {
     "duration": 140.64518,
     "end_time": "2025-10-03T10:12:00.038239",
     "exception": false,
     "start_time": "2025-10-03T10:09:39.393059",
     "status": "completed"
    },
    "tags": []
   },
   "outputs": [
    {
     "name": "stdout",
     "output_type": "stream",
     "text": [
      "Fitting 5 folds for each of 4 candidates, totalling 20 fits\n",
      "[LightGBM] [Info] Auto-choosing row-wise multi-threading, the overhead of testing was 0.078943 seconds.\n",
      "You can set `force_row_wise=true` to remove the overhead.\n",
      "And if memory is not enough, you can set `force_col_wise=true`.\n",
      "[LightGBM] [Info] Total Bins 236\n",
      "[LightGBM] [Info] Number of data points in the train set: 414203, number of used features: 25\n",
      "[LightGBM] [Info] Start training from score 0.352605\n",
      "[LightGBM] [Info] Auto-choosing row-wise multi-threading, the overhead of testing was 0.066776 seconds.\n",
      "You can set `force_row_wise=true` to remove the overhead.\n",
      "And if memory is not enough, you can set `force_col_wise=true`.\n",
      "[LightGBM] [Info] Total Bins 240\n",
      "[LightGBM] [Info] Number of data points in the train set: 414204, number of used features: 25\n",
      "[LightGBM] [Info] Start training from score 0.352433\n",
      "[LightGBM] [Info] Auto-choosing row-wise multi-threading, the overhead of testing was 0.067978 seconds.\n",
      "You can set `force_row_wise=true` to remove the overhead.\n",
      "And if memory is not enough, you can set `force_col_wise=true`.\n",
      "[LightGBM] [Info] Total Bins 241\n",
      "[LightGBM] [Info] Number of data points in the train set: 414203, number of used features: 25\n",
      "[LightGBM] [Info] Start training from score 0.352472\n",
      "[LightGBM] [Info] Auto-choosing row-wise multi-threading, the overhead of testing was 0.065968 seconds.\n",
      "You can set `force_row_wise=true` to remove the overhead.\n",
      "And if memory is not enough, you can set `force_col_wise=true`.\n",
      "[LightGBM] [Info] Total Bins 236\n",
      "[LightGBM] [Info] Number of data points in the train set: 414203, number of used features: 25\n",
      "[LightGBM] [Info] Start training from score 0.352605\n",
      "[LightGBM] [Warning] No further splits with positive gain, best gain: -inf\n",
      "[LightGBM] [Warning] No further splits with positive gain, best gain: -inf\n",
      "[LightGBM] [Warning] No further splits with positive gain, best gain: -inf\n",
      "[LightGBM] [Warning] No further splits with positive gain, best gain: -inf\n",
      "[LightGBM] [Warning] No further splits with positive gain, best gain: -inf\n",
      "[LightGBM] [Warning] No further splits with positive gain, best gain: -inf\n",
      "[LightGBM] [Warning] No further splits with positive gain, best gain: -inf\n",
      "[LightGBM] [Warning] No further splits with positive gain, best gain: -inf\n",
      "[LightGBM] [Warning] No further splits with positive gain, best gain: -inf\n",
      "[LightGBM] [Warning] No further splits with positive gain, best gain: -inf\n",
      "[LightGBM] [Warning] No further splits with positive gain, best gain: -inf\n",
      "[LightGBM] [Warning] No further splits with positive gain, best gain: -inf\n",
      "[LightGBM] [Warning] No further splits with positive gain, best gain: -inf\n",
      "[LightGBM] [Warning] No further splits with positive gain, best gain: -inf\n",
      "[LightGBM] [Warning] No further splits with positive gain, best gain: -inf\n",
      "[LightGBM] [Warning] No further splits with positive gain, best gain: -inf\n",
      "[LightGBM] [Warning] No further splits with positive gain, best gain: -inf\n",
      "[LightGBM] [Warning] No further splits with positive gain, best gain: -inf\n",
      "[LightGBM] [Warning] No further splits with positive gain, best gain: -inf\n",
      "[LightGBM] [Warning] No further splits with positive gain, best gain: -inf\n",
      "[LightGBM] [Warning] No further splits with positive gain, best gain: -inf\n",
      "[LightGBM] [Warning] No further splits with positive gain, best gain: -inf\n",
      "[LightGBM] [Warning] No further splits with positive gain, best gain: -inf\n",
      "[LightGBM] [Warning] No further splits with positive gain, best gain: -inf\n",
      "[LightGBM] [Warning] No further splits with positive gain, best gain: -inf\n",
      "[LightGBM] [Warning] No further splits with positive gain, best gain: -inf\n",
      "[LightGBM] [Warning] No further splits with positive gain, best gain: -inf\n",
      "[LightGBM] [Warning] No further splits with positive gain, best gain: -inf\n",
      "[LightGBM] [Warning] No further splits with positive gain, best gain: -inf\n",
      "[LightGBM] [Warning] No further splits with positive gain, best gain: -inf\n",
      "[LightGBM] [Warning] No further splits with positive gain, best gain: -inf\n",
      "[LightGBM] [Warning] No further splits with positive gain, best gain: -inf\n",
      "[LightGBM] [Warning] No further splits with positive gain, best gain: -inf\n",
      "[LightGBM] [Warning] No further splits with positive gain, best gain: -inf\n",
      "[LightGBM] [Warning] No further splits with positive gain, best gain: -inf\n",
      "[LightGBM] [Warning] No further splits with positive gain, best gain: -inf\n",
      "[LightGBM] [Warning] No further splits with positive gain, best gain: -inf\n",
      "[LightGBM] [Warning] No further splits with positive gain, best gain: -inf\n",
      "[LightGBM] [Warning] No further splits with positive gain, best gain: -inf\n",
      "[LightGBM] [Warning] No further splits with positive gain, best gain: -inf\n",
      "[LightGBM] [Warning] No further splits with positive gain, best gain: -inf\n",
      "[LightGBM] [Warning] No further splits with positive gain, best gain: -inf\n",
      "[LightGBM] [Warning] No further splits with positive gain, best gain: -inf\n",
      "[LightGBM] [Warning] No further splits with positive gain, best gain: -inf\n",
      "[LightGBM] [Warning] No further splits with positive gain, best gain: -inf\n",
      "[LightGBM] [Warning] No further splits with positive gain, best gain: -inf\n",
      "[LightGBM] [Warning] No further splits with positive gain, best gain: -inf\n",
      "[LightGBM] [Warning] No further splits with positive gain, best gain: -inf\n",
      "[LightGBM] [Warning] No further splits with positive gain, best gain: -inf\n",
      "[LightGBM] [Warning] No further splits with positive gain, best gain: -inf\n",
      "[LightGBM] [Warning] No further splits with positive gain, best gain: -inf\n",
      "[LightGBM] [Warning] No further splits with positive gain, best gain: -inf\n",
      "[LightGBM] [Warning] No further splits with positive gain, best gain: -inf\n",
      "[LightGBM] [Warning] No further splits with positive gain, best gain: -inf\n",
      "[LightGBM] [Warning] No further splits with positive gain, best gain: -inf\n",
      "[LightGBM] [Warning] No further splits with positive gain, best gain: -inf\n",
      "[LightGBM] [Warning] No further splits with positive gain, best gain: -inf\n",
      "[LightGBM] [Warning] No further splits with positive gain, best gain: -inf\n",
      "[LightGBM] [Warning] No further splits with positive gain, best gain: -inf\n",
      "[LightGBM] [Warning] No further splits with positive gain, best gain: -inf\n",
      "[LightGBM] [Warning] No further splits with positive gain, best gain: -inf\n",
      "[LightGBM] [Warning] No further splits with positive gain, best gain: -inf\n",
      "[LightGBM] [Warning] No further splits with positive gain, best gain: -inf\n",
      "[LightGBM] [Warning] No further splits with positive gain, best gain: -inf\n",
      "[LightGBM] [Warning] No further splits with positive gain, best gain: -inf\n",
      "[LightGBM] [Warning] No further splits with positive gain, best gain: -inf\n",
      "[LightGBM] [Warning] No further splits with positive gain, best gain: -inf\n",
      "[LightGBM] [Warning] No further splits with positive gain, best gain: -inf\n",
      "[LightGBM] [Warning] No further splits with positive gain, best gain: -inf\n",
      "[LightGBM] [Warning] No further splits with positive gain, best gain: -inf\n",
      "[LightGBM] [Warning] No further splits with positive gain, best gain: -inf\n",
      "[LightGBM] [Warning] No further splits with positive gain, best gain: -inf\n",
      "[LightGBM] [Warning] No further splits with positive gain, best gain: -inf\n",
      "[LightGBM] [Warning] No further splits with positive gain, best gain: -inf\n",
      "[LightGBM] [Warning] No further splits with positive gain, best gain: -inf\n",
      "[LightGBM] [Warning] No further splits with positive gain, best gain: -inf\n",
      "[LightGBM] [Warning] No further splits with positive gain, best gain: -inf\n",
      "[LightGBM] [Warning] No further splits with positive gain, best gain: -inf\n",
      "[LightGBM] [Warning] No further splits with positive gain, best gain: -inf\n",
      "[LightGBM] [Warning] No further splits with positive gain, best gain: -inf\n",
      "[LightGBM] [Warning] No further splits with positive gain, best gain: -inf\n",
      "[LightGBM] [Warning] No further splits with positive gain, best gain: -inf\n",
      "[LightGBM] [Warning] No further splits with positive gain, best gain: -inf\n",
      "[LightGBM] [Warning] No further splits with positive gain, best gain: -inf\n",
      "[LightGBM] [Warning] No further splits with positive gain, best gain: -inf\n",
      "[LightGBM] [Warning] No further splits with positive gain, best gain: -inf\n",
      "[LightGBM] [Warning] No further splits with positive gain, best gain: -inf\n",
      "[LightGBM] [Warning] No further splits with positive gain, best gain: -inf[LightGBM] [Info] Auto-choosing row-wise multi-threading, the overhead of testing was 0.089996 seconds.\n",
      "You can set `force_row_wise=true` to remove the overhead.\n",
      "And if memory is not enough, you can set `force_col_wise=true`.\n",
      "[LightGBM] [Info] Total Bins 240\n",
      "[LightGBM] [Info] Number of data points in the train set: 414203, number of used features: 25\n",
      "[LightGBM] [Info] Start training from score 0.352272\n",
      "[LightGBM] [Info] Auto-choosing row-wise multi-threading, the overhead of testing was 0.077563 seconds.\n",
      "You can set `force_row_wise=true` to remove the overhead.\n",
      "And if memory is not enough, you can set `force_col_wise=true`.\n",
      "[LightGBM] [Info] Total Bins 211\n",
      "[LightGBM] [Info] Number of data points in the train set: 414203, number of used features: 25\n",
      "[LightGBM] [Info] Start training from score 0.352104\n",
      "[LightGBM] [Info] Auto-choosing row-wise multi-threading, the overhead of testing was 0.067979 seconds.\n",
      "You can set `force_row_wise=true` to remove the overhead.\n",
      "And if memory is not enough, you can set `force_col_wise=true`.\n",
      "[LightGBM] [Info] Total Bins 211\n",
      "[LightGBM] [Info] Number of data points in the train set: 414203, number of used features: 25\n",
      "[LightGBM] [Info] Start training from score 0.352104\n",
      "[LightGBM] [Warning] No further splits with positive gain, best gain: -inf\n",
      "[LightGBM] [Warning] No further splits with positive gain, best gain: -inf\n",
      "[LightGBM] [Warning] No further splits with positive gain, best gain: -inf\n",
      "[LightGBM] [Warning] No further splits with positive gain, best gain: -inf\n",
      "[LightGBM] [Warning] No further splits with positive gain, best gain: -inf\n",
      "[LightGBM] [Warning] No further splits with positive gain, best gain: -inf\n",
      "[LightGBM] [Warning] No further splits with positive gain, best gain: -inf\n",
      "[LightGBM] [Warning] No further splits with positive gain, best gain: -inf\n",
      "[LightGBM] [Warning] No further splits with positive gain, best gain: -inf\n",
      "[LightGBM] [Warning] No further splits with positive gain, best gain: -inf\n",
      "[LightGBM] [Warning] No further splits with positive gain, best gain: -inf\n",
      "[LightGBM] [Warning] No further splits with positive gain, best gain: -inf\n",
      "[LightGBM] [Warning] No further splits with positive gain, best gain: -inf\n",
      "[LightGBM] [Warning] No further splits with positive gain, best gain: -inf\n",
      "[LightGBM] [Warning] No further splits with positive gain, best gain: -inf\n",
      "[LightGBM] [Warning] No further splits with positive gain, best gain: -inf\n",
      "[LightGBM] [Warning] No further splits with positive gain, best gain: -inf\n",
      "[LightGBM] [Warning] No further splits with positive gain, best gain: -inf\n",
      "[LightGBM] [Warning] No further splits with positive gain, best gain: -inf\n",
      "[LightGBM] [Warning] No further splits with positive gain, best gain: -inf\n",
      "[LightGBM] [Warning] No further splits with positive gain, best gain: -inf\n",
      "[LightGBM] [Warning] No further splits with positive gain, best gain: -inf\n",
      "[LightGBM] [Warning] No further splits with positive gain, best gain: -inf\n",
      "[LightGBM] [Warning] No further splits with positive gain, best gain: -inf\n",
      "[LightGBM] [Warning] No further splits with positive gain, best gain: -inf\n",
      "[LightGBM] [Warning] No further splits with positive gain, best gain: -inf\n",
      "[LightGBM] [Warning] No further splits with positive gain, best gain: -inf\n",
      "[LightGBM] [Warning] No further splits with positive gain, best gain: -inf\n",
      "[LightGBM] [Warning] No further splits with positive gain, best gain: -inf\n",
      "[LightGBM] [Warning] No further splits with positive gain, best gain: -inf\n",
      "[LightGBM] [Warning] No further splits with positive gain, best gain: -inf\n",
      "[LightGBM] [Warning] No further splits with positive gain, best gain: -inf\n",
      "[LightGBM] [Warning] No further splits with positive gain, best gain: -inf\n",
      "[LightGBM] [Warning] No further splits with positive gain, best gain: -inf\n",
      "[LightGBM] [Warning] No further splits with positive gain, best gain: -inf\n",
      "[LightGBM] [Warning] No further splits with positive gain, best gain: -inf\n",
      "[LightGBM] [Warning] No further splits with positive gain, best gain: -inf\n",
      "[LightGBM] [Warning] No further splits with positive gain, best gain: -inf\n",
      "[LightGBM] [Warning] No further splits with positive gain, best gain: -inf\n",
      "[LightGBM] [Warning] No further splits with positive gain, best gain: -inf\n",
      "[LightGBM] [Warning] No further splits with positive gain, best gain: -inf\n",
      "[LightGBM] [Warning] No further splits with positive gain, best gain: -inf\n",
      "[LightGBM] [Warning] No further splits with positive gain, best gain: -inf\n",
      "[LightGBM] [Warning] No further splits with positive gain, best gain: -inf\n",
      "[LightGBM] [Warning] No further splits with positive gain, best gain: -inf\n",
      "[LightGBM] [Warning] No further splits with positive gain, best gain: -inf\n",
      "[LightGBM] [Warning] No further splits with positive gain, best gain: -inf\n",
      "[LightGBM] [Warning] No further splits with positive gain, best gain: -inf\n",
      "[LightGBM] [Warning] No further splits with positive gain, best gain: -inf\n",
      "[LightGBM] [Warning] No further splits with positive gain, best gain: -inf\n",
      "[LightGBM] [Warning] No further splits with positive gain, best gain: -inf\n",
      "[LightGBM] [Warning] No further splits with positive gain, best gain: -inf\n",
      "[LightGBM] [Warning] No further splits with positive gain, best gain: -inf\n",
      "[LightGBM] [Warning] No further splits with positive gain, best gain: -inf\n",
      "[LightGBM] [Warning] No further splits with positive gain, best gain: -inf\n",
      "[LightGBM] [Warning] No further splits with positive gain, best gain: -inf\n",
      "[LightGBM] [Warning] No further splits with positive gain, best gain: -inf\n",
      "[LightGBM] [Warning] No further splits with positive gain, best gain: -inf\n",
      "[LightGBM] [Warning] No further splits with positive gain, best gain: -inf\n",
      "[LightGBM] [Warning] No further splits with positive gain, best gain: -inf\n",
      "[LightGBM] [Warning] No further splits with positive gain, best gain: -inf\n",
      "[LightGBM] [Warning] No further splits with positive gain, best gain: -inf\n",
      "[LightGBM] [Warning] No further splits with positive gain, best gain: -inf\n",
      "[LightGBM] [Warning] No further splits with positive gain, best gain: -inf\n",
      "[LightGBM] [Warning] No further splits with positive gain, best gain: -inf\n",
      "[LightGBM] [Warning] No further splits with positive gain, best gain: -inf\n",
      "[LightGBM] [Warning] No further splits with positive gain, best gain: -inf\n",
      "[LightGBM] [Warning] No further splits with positive gain, best gain: -inf\n",
      "[LightGBM] [Warning] No further splits with positive gain, best gain: -inf\n",
      "[LightGBM] [Warning] No further splits with positive gain, best gain: -inf\n",
      "[LightGBM] [Warning] No further splits with positive gain, best gain: -inf\n",
      "[LightGBM] [Warning] No further splits with positive gain, best gain: -inf\n",
      "[LightGBM] [Warning] No further splits with positive gain, best gain: -inf\n",
      "[LightGBM] [Warning] No further splits with positive gain, best gain: -inf\n",
      "[LightGBM] [Warning] No further splits with positive gain, best gain: -inf\n",
      "[LightGBM] [Warning] No further splits with positive gain, best gain: -inf\n",
      "[LightGBM] [Warning] No further splits with positive gain, best gain: -inf\n",
      "[LightGBM] [Warning] No further splits with positive gain, best gain: -inf\n",
      "[LightGBM] [Warning] No further splits with positive gain, best gain: -inf\n",
      "[LightGBM] [Warning] No further splits with positive gain, best gain: -inf\n",
      "[LightGBM] [Warning] No further splits with positive gain, best gain: -inf\n",
      "[LightGBM] [Warning] No further splits with positive gain, best gain: -inf\n",
      "[LightGBM] [Warning] No further splits with positive gain, best gain: -inf\n",
      "[LightGBM] [Warning] No further splits with positive gain, best gain: -inf\n",
      "[LightGBM] [Warning] No further splits with positive gain, best gain: -inf\n",
      "[LightGBM] [Warning] No further splits with positive gain, best gain: -inf\n",
      "[LightGBM] [Warning] No further splits with positive gain, best gain: -inf\n",
      "[LightGBM] [Warning] No further splits with positive gain, best gain: -inf\n",
      "[LightGBM] [Warning] No further splits with positive gain, best gain: -inf\n",
      "[LightGBM] [Warning] No further splits with positive gain, best gain: -inf\n",
      "[LightGBM] [Warning] No further splits with positive gain, best gain: -inf\n",
      "[LightGBM] [Warning] No further splits with positive gain, best gain: -inf\n",
      "[LightGBM] [Warning] No further splits with positive gain, best gain: -inf\n",
      "[LightGBM] [Warning] No further splits with positive gain, best gain: -inf\n",
      "[LightGBM] [Warning] No further splits with positive gain, best gain: -inf\n",
      "[LightGBM] [Warning] No further splits with positive gain, best gain: -inf\n",
      "[LightGBM] [Warning] No further splits with positive gain, best gain: -inf\n",
      "[LightGBM] [Warning] No further splits with positive gain, best gain: -inf\n",
      "[LightGBM] [Warning] No further splits with positive gain, best gain: -inf\n",
      "[LightGBM] [Warning] No further splits with positive gain, best gain: -inf\n",
      "[LightGBM] [Warning] No further splits with positive gain, best gain: -inf\n",
      "[LightGBM] [Warning] No further splits with positive gain, best gain: -inf\n",
      "[LightGBM] [Warning] No further splits with positive gain, best gain: -inf\n",
      "[LightGBM] [Warning] No further splits with positive gain, best gain: -inf\n",
      "[LightGBM] [Warning] No further splits with positive gain, best gain: -inf\n",
      "[LightGBM] [Info] Auto-choosing row-wise multi-threading, the overhead of testing was 0.069959 seconds.\n",
      "You can set `force_row_wise=true` to remove the overhead.\n",
      "And if memory is not enough, you can set `force_col_wise=true`.\n",
      "[LightGBM] [Info] Total Bins 240\n",
      "[LightGBM] [Info] Number of data points in the train set: 414203, number of used features: 25\n",
      "[LightGBM] [Info] Start training from score 0.352272\n",
      "[LightGBM] [Warning] No further splits with positive gain, best gain: -inf\n",
      "[LightGBM] [Warning] No further splits with positive gain, best gain: -inf\n",
      "[LightGBM] [Warning] No further splits with positive gain, best gain: -inf\n",
      "[LightGBM] [Warning] No further splits with positive gain, best gain: -inf\n",
      "[LightGBM] [Warning] No further splits with positive gain, best gain: -inf\n",
      "[LightGBM] [Warning] No further splits with positive gain, best gain: -inf\n",
      "[LightGBM] [Warning] No further splits with positive gain, best gain: -inf\n",
      "[LightGBM] [Warning] No further splits with positive gain, best gain: -inf\n",
      "[LightGBM] [Warning] No further splits with positive gain, best gain: -inf\n",
      "[LightGBM] [Warning] No further splits with positive gain, best gain: -inf\n",
      "[LightGBM] [Warning] No further splits with positive gain, best gain: -inf\n",
      "[LightGBM] [Warning] No further splits with positive gain, best gain: -inf\n",
      "[LightGBM] [Warning] No further splits with positive gain, best gain: -inf\n",
      "[LightGBM] [Warning] No further splits with positive gain, best gain: -inf\n",
      "[LightGBM] [Warning] No further splits with positive gain, best gain: -inf\n",
      "[LightGBM] [Warning] No further splits with positive gain, best gain: -inf\n",
      "[LightGBM] [Warning] No further splits with positive gain, best gain: -inf\n",
      "[LightGBM] [Warning] No further splits with positive gain, best gain: -inf\n",
      "[LightGBM] [Warning] No further splits with positive gain, best gain: -inf\n",
      "[LightGBM] [Warning] No further splits with positive gain, best gain: -inf\n",
      "[LightGBM] [Warning] No further splits with positive gain, best gain: -inf\n",
      "[LightGBM] [Warning] No further splits with positive gain, best gain: -inf\n",
      "[LightGBM] [Warning] No further splits with positive gain, best gain: -inf\n",
      "[LightGBM] [Warning] No further splits with positive gain, best gain: -inf\n",
      "[LightGBM] [Warning] No further splits with positive gain, best gain: -inf\n",
      "[LightGBM] [Warning] No further splits with positive gain, best gain: -inf\n",
      "[LightGBM] [Warning] No further splits with positive gain, best gain: -inf\n",
      "[LightGBM] [Warning] No further splits with positive gain, best gain: -inf\n",
      "[LightGBM] [Warning] No further splits with positive gain, best gain: -inf\n",
      "[LightGBM] [Warning] No further splits with positive gain, best gain: -inf\n",
      "[LightGBM] [Warning] No further splits with positive gain, best gain: -inf\n",
      "[LightGBM] [Warning] No further splits with positive gain, best gain: -inf\n",
      "[LightGBM] [Warning] No further splits with positive gain, best gain: -inf\n",
      "[LightGBM] [Warning] No further splits with positive gain, best gain: -inf\n",
      "[LightGBM] [Warning] No further splits with positive gain, best gain: -inf\n",
      "[LightGBM] [Warning] No further splits with positive gain, best gain: -inf\n",
      "[LightGBM] [Warning] No further splits with positive gain, best gain: -inf\n",
      "[LightGBM] [Warning] No further splits with positive gain, best gain: -inf\n",
      "[LightGBM] [Warning] No further splits with positive gain, best gain: -inf\n",
      "[LightGBM] [Warning] No further splits with positive gain, best gain: -inf\n",
      "[LightGBM] [Warning] No further splits with positive gain, best gain: -inf\n",
      "[LightGBM] [Warning] No further splits with positive gain, best gain: -inf\n",
      "[LightGBM] [Warning] No further splits with positive gain, best gain: -inf\n",
      "[LightGBM] [Warning] No further splits with positive gain, best gain: -inf\n",
      "[LightGBM] [Warning] No further splits with positive gain, best gain: -inf\n",
      "[LightGBM] [Warning] No further splits with positive gain, best gain: -inf\n",
      "[LightGBM] [Warning] No further splits with positive gain, best gain: -inf\n",
      "[LightGBM] [Warning] No further splits with positive gain, best gain: -inf\n",
      "[LightGBM] [Warning] No further splits with positive gain, best gain: -inf\n",
      "[LightGBM] [Warning] No further splits with positive gain, best gain: -inf\n",
      "[LightGBM] [Warning] No further splits with positive gain, best gain: -inf\n",
      "[LightGBM] [Warning] No further splits with positive gain, best gain: -inf\n",
      "[LightGBM] [Warning] No further splits with positive gain, best gain: -inf\n",
      "[LightGBM] [Warning] No further splits with positive gain, best gain: -inf\n",
      "[LightGBM] [Warning] No further splits with positive gain, best gain: -inf\n",
      "[LightGBM] [Warning] No further splits with positive gain, best gain: -inf\n",
      "[LightGBM] [Warning] No further splits with positive gain, best gain: -inf\n",
      "[LightGBM] [Warning] No further splits with positive gain, best gain: -inf\n",
      "[LightGBM] [Warning] No further splits with positive gain, best gain: -inf\n",
      "[LightGBM] [Warning] No further splits with positive gain, best gain: -inf\n",
      "[LightGBM] [Warning] No further splits with positive gain, best gain: -inf\n",
      "[LightGBM] [Warning] No further splits with positive gain, best gain: -inf\n",
      "[LightGBM] [Warning] No further splits with positive gain, best gain: -inf\n",
      "[LightGBM] [Warning] No further splits with positive gain, best gain: -inf\n",
      "[LightGBM] [Warning] No further splits with positive gain, best gain: -inf\n",
      "[LightGBM] [Warning] No further splits with positive gain, best gain: -inf\n",
      "[LightGBM] [Warning] No further splits with positive gain, best gain: -inf\n",
      "[LightGBM] [Warning] No further splits with positive gain, best gain: -inf\n",
      "[LightGBM] [Warning] No further splits with positive gain, best gain: -inf\n",
      "[LightGBM] [Warning] No further splits with positive gain, best gain: -inf\n",
      "[LightGBM] [Warning] No further splits with positive gain, best gain: -inf\n",
      "[LightGBM] [Warning] No further splits with positive gain, best gain: -inf\n",
      "[LightGBM] [Warning] No further splits with positive gain, best gain: -inf\n",
      "[LightGBM] [Warning] No further splits with positive gain, best gain: -inf\n",
      "[LightGBM] [Warning] No further splits with positive gain, best gain: -inf\n",
      "[LightGBM] [Warning] No further splits with positive gain, best gain: -inf\n",
      "[LightGBM] [Warning] No further splits with positive gain, best gain: -inf\n",
      "[LightGBM] [Warning] No further splits with positive gain, best gain: -inf\n",
      "[LightGBM] [Warning] No further splits with positive gain, best gain: -inf\n",
      "[LightGBM] [Warning] No further splits with positive gain, best gain: -inf\n",
      "[LightGBM] [Warning] No further splits with positive gain, best gain: -inf\n",
      "[LightGBM] [Warning] No further splits with positive gain, best gain: -inf\n",
      "[LightGBM] [Warning] No further splits with positive gain, best gain: -inf\n",
      "[LightGBM] [Warning] No further splits with positive gain, best gain: -inf\n",
      "[LightGBM] [Warning] No further splits with positive gain, best gain: -inf\n",
      "[LightGBM] [Warning] No further splits with positive gain, best gain: -inf\n",
      "[LightGBM] [Warning] No further splits with positive gain, best gain: -inf\n",
      "[LightGBM] [Warning] No further splits with positive gain, best gain: -inf\n",
      "[LightGBM] [Warning] No further splits with positive gain, best gain: -inf\n",
      "[LightGBM] [Warning] No further splits with positive gain, best gain: -inf\n",
      "[LightGBM] [Warning] No further splits with positive gain, best gain: -inf\n",
      "[LightGBM] [Warning] No further splits with positive gain, best gain: -inf[LightGBM] [Info] Auto-choosing col-wise multi-threading, the overhead of testing was 0.193331 seconds.\n",
      "You can set `force_col_wise=true` to remove the overhead.\n",
      "[LightGBM] [Info] Total Bins 241\n",
      "[LightGBM] [Info] Number of data points in the train set: 414203, number of used features: 25\n",
      "[LightGBM] [Info] Start training from score 0.352472\n",
      "[LightGBM] [Info] Auto-choosing row-wise multi-threading, the overhead of testing was 0.071984 seconds.\n",
      "You can set `force_row_wise=true` to remove the overhead.\n",
      "And if memory is not enough, you can set `force_col_wise=true`.\n",
      "[LightGBM] [Info] Total Bins 240\n",
      "[LightGBM] [Info] Number of data points in the train set: 414203, number of used features: 25\n",
      "[LightGBM] [Info] Start training from score 0.352272\n",
      "[LightGBM] [Info] Auto-choosing row-wise multi-threading, the overhead of testing was 0.054520 seconds.\n",
      "You can set `force_row_wise=true` to remove the overhead.\n",
      "And if memory is not enough, you can set `force_col_wise=true`.\n",
      "[LightGBM] [Info] Total Bins 241\n",
      "[LightGBM] [Info] Number of data points in the train set: 414203, number of used features: 25\n",
      "[LightGBM] [Info] Start training from score 0.352472\n",
      "[LightGBM] [Warning] No further splits with positive gain, best gain: -inf\n",
      "[LightGBM] [Warning] No further splits with positive gain, best gain: -inf\n",
      "[LightGBM] [Warning] No further splits with positive gain, best gain: -inf\n",
      "[LightGBM] [Warning] No further splits with positive gain, best gain: -inf\n",
      "[LightGBM] [Warning] No further splits with positive gain, best gain: -inf\n",
      "[LightGBM] [Warning] No further splits with positive gain, best gain: -inf\n",
      "[LightGBM] [Warning] No further splits with positive gain, best gain: -inf\n",
      "[LightGBM] [Warning] No further splits with positive gain, best gain: -inf\n",
      "[LightGBM] [Warning] No further splits with positive gain, best gain: -inf\n",
      "[LightGBM] [Warning] No further splits with positive gain, best gain: -inf\n",
      "[LightGBM] [Warning] No further splits with positive gain, best gain: -inf\n",
      "[LightGBM] [Warning] No further splits with positive gain, best gain: -inf\n",
      "[LightGBM] [Warning] No further splits with positive gain, best gain: -inf\n",
      "[LightGBM] [Warning] No further splits with positive gain, best gain: -inf\n",
      "[LightGBM] [Warning] No further splits with positive gain, best gain: -inf\n",
      "[LightGBM] [Warning] No further splits with positive gain, best gain: -inf\n",
      "[LightGBM] [Warning] No further splits with positive gain, best gain: -inf\n",
      "[LightGBM] [Warning] No further splits with positive gain, best gain: -inf\n",
      "[LightGBM] [Warning] No further splits with positive gain, best gain: -inf\n",
      "[LightGBM] [Warning] No further splits with positive gain, best gain: -inf\n",
      "[LightGBM] [Warning] No further splits with positive gain, best gain: -inf\n",
      "[LightGBM] [Warning] No further splits with positive gain, best gain: -inf\n",
      "[LightGBM] [Warning] No further splits with positive gain, best gain: -inf\n",
      "[LightGBM] [Warning] No further splits with positive gain, best gain: -inf\n",
      "[LightGBM] [Warning] No further splits with positive gain, best gain: -inf\n",
      "[LightGBM] [Warning] No further splits with positive gain, best gain: -inf\n",
      "[LightGBM] [Warning] No further splits with positive gain, best gain: -inf\n",
      "[LightGBM] [Warning] No further splits with positive gain, best gain: -inf\n",
      "[LightGBM] [Warning] No further splits with positive gain, best gain: -inf\n",
      "[LightGBM] [Warning] No further splits with positive gain, best gain: -inf\n",
      "[LightGBM] [Warning] No further splits with positive gain, best gain: -inf\n",
      "[LightGBM] [Warning] No further splits with positive gain, best gain: -inf\n",
      "[LightGBM] [Warning] No further splits with positive gain, best gain: -inf\n",
      "[LightGBM] [Warning] No further splits with positive gain, best gain: -inf\n",
      "[LightGBM] [Warning] No further splits with positive gain, best gain: -inf\n",
      "[LightGBM] [Warning] No further splits with positive gain, best gain: -inf\n",
      "[LightGBM] [Warning] No further splits with positive gain, best gain: -inf\n",
      "[LightGBM] [Warning] No further splits with positive gain, best gain: -inf\n",
      "[LightGBM] [Warning] No further splits with positive gain, best gain: -inf\n",
      "[LightGBM] [Warning] No further splits with positive gain, best gain: -inf\n",
      "[LightGBM] [Warning] No further splits with positive gain, best gain: -inf\n",
      "[LightGBM] [Warning] No further splits with positive gain, best gain: -inf\n",
      "[LightGBM] [Warning] No further splits with positive gain, best gain: -inf\n",
      "[LightGBM] [Warning] No further splits with positive gain, best gain: -inf\n",
      "[LightGBM] [Warning] No further splits with positive gain, best gain: -inf\n",
      "[LightGBM] [Warning] No further splits with positive gain, best gain: -inf\n",
      "[LightGBM] [Warning] No further splits with positive gain, best gain: -inf\n",
      "[LightGBM] [Warning] No further splits with positive gain, best gain: -inf\n",
      "[LightGBM] [Warning] No further splits with positive gain, best gain: -inf\n",
      "[LightGBM] [Warning] No further splits with positive gain, best gain: -inf\n",
      "[LightGBM] [Warning] No further splits with positive gain, best gain: -inf\n",
      "[LightGBM] [Warning] No further splits with positive gain, best gain: -inf\n",
      "[LightGBM] [Warning] No further splits with positive gain, best gain: -inf\n",
      "[LightGBM] [Warning] No further splits with positive gain, best gain: -inf\n",
      "[LightGBM] [Warning] No further splits with positive gain, best gain: -inf\n",
      "[LightGBM] [Warning] No further splits with positive gain, best gain: -inf\n",
      "[LightGBM] [Warning] No further splits with positive gain, best gain: -inf\n",
      "[LightGBM] [Warning] No further splits with positive gain, best gain: -inf\n",
      "[LightGBM] [Warning] No further splits with positive gain, best gain: -inf\n",
      "[LightGBM] [Warning] No further splits with positive gain, best gain: -inf\n",
      "[LightGBM] [Warning] No further splits with positive gain, best gain: -inf\n",
      "[LightGBM] [Warning] No further splits with positive gain, best gain: -inf\n",
      "[LightGBM] [Warning] No further splits with positive gain, best gain: -inf\n",
      "[LightGBM] [Warning] No further splits with positive gain, best gain: -inf\n",
      "[LightGBM] [Warning] No further splits with positive gain, best gain: -inf\n",
      "[LightGBM] [Warning] No further splits with positive gain, best gain: -inf\n",
      "[LightGBM] [Warning] No further splits with positive gain, best gain: -inf\n",
      "[LightGBM] [Warning] No further splits with positive gain, best gain: -inf\n",
      "[LightGBM] [Warning] No further splits with positive gain, best gain: -inf\n",
      "[LightGBM] [Warning] No further splits with positive gain, best gain: -inf\n",
      "[LightGBM] [Warning] No further splits with positive gain, best gain: -inf\n",
      "[LightGBM] [Warning] No further splits with positive gain, best gain: -inf\n",
      "[LightGBM] [Warning] No further splits with positive gain, best gain: -inf\n",
      "[LightGBM] [Warning] No further splits with positive gain, best gain: -inf\n",
      "[LightGBM] [Warning] No further splits with positive gain, best gain: -inf\n",
      "[LightGBM] [Warning] No further splits with positive gain, best gain: -inf\n",
      "[LightGBM] [Warning] No further splits with positive gain, best gain: -inf\n",
      "[LightGBM] [Warning] No further splits with positive gain, best gain: -inf\n",
      "[LightGBM] [Warning] No further splits with positive gain, best gain: -inf\n",
      "[LightGBM] [Warning] No further splits with positive gain, best gain: -inf\n",
      "[LightGBM] [Warning] No further splits with positive gain, best gain: -inf\n",
      "[LightGBM] [Warning] No further splits with positive gain, best gain: -inf\n",
      "[LightGBM] [Warning] No further splits with positive gain, best gain: -inf\n",
      "[LightGBM] [Warning] No further splits with positive gain, best gain: -inf\n",
      "[LightGBM] [Warning] No further splits with positive gain, best gain: -inf\n",
      "[LightGBM] [Warning] No further splits with positive gain, best gain: -inf\n",
      "[LightGBM] [Warning] No further splits with positive gain, best gain: -inf\n",
      "[LightGBM] [Warning] No further splits with positive gain, best gain: -inf\n",
      "[LightGBM] [Warning] No further splits with positive gain, best gain: -inf\n",
      "[LightGBM] [Warning] No further splits with positive gain, best gain: -inf\n",
      "[LightGBM] [Warning] No further splits with positive gain, best gain: -inf\n",
      "[LightGBM] [Warning] No further splits with positive gain, best gain: -inf\n",
      "[LightGBM] [Warning] No further splits with positive gain, best gain: -inf\n",
      "[LightGBM] [Warning] No further splits with positive gain, best gain: -inf\n",
      "[LightGBM] [Warning] No further splits with positive gain, best gain: -inf\n",
      "[LightGBM] [Warning] No further splits with positive gain, best gain: -inf\n",
      "[LightGBM] [Warning] No further splits with positive gain, best gain: -inf\n",
      "[LightGBM] [Warning] No further splits with positive gain, best gain: -inf\n",
      "[LightGBM] [Warning] No further splits with positive gain, best gain: -inf\n",
      "[LightGBM] [Warning] No further splits with positive gain, best gain: -inf\n",
      "[LightGBM] [Warning] No further splits with positive gain, best gain: -inf\n",
      "[LightGBM] [Info] Auto-choosing row-wise multi-threading, the overhead of testing was 0.057911 seconds.\n",
      "You can set `force_row_wise=true` to remove the overhead.\n",
      "And if memory is not enough, you can set `force_col_wise=true`.\n",
      "[LightGBM] [Info] Total Bins 240\n",
      "[LightGBM] [Info] Number of data points in the train set: 414204, number of used features: 25\n",
      "[LightGBM] [Info] Start training from score 0.352433\n",
      "[LightGBM] [Warning] No further splits with positive gain, best gain: -inf\n",
      "[LightGBM] [Warning] No further splits with positive gain, best gain: -inf\n",
      "[LightGBM] [Warning] No further splits with positive gain, best gain: -inf\n",
      "[LightGBM] [Warning] No further splits with positive gain, best gain: -inf\n",
      "[LightGBM] [Warning] No further splits with positive gain, best gain: -inf\n",
      "[LightGBM] [Warning] No further splits with positive gain, best gain: -inf\n",
      "[LightGBM] [Warning] No further splits with positive gain, best gain: -inf\n",
      "[LightGBM] [Warning] No further splits with positive gain, best gain: -inf\n",
      "[LightGBM] [Warning] No further splits with positive gain, best gain: -inf\n",
      "[LightGBM] [Warning] No further splits with positive gain, best gain: -inf\n",
      "[LightGBM] [Warning] No further splits with positive gain, best gain: -inf\n",
      "[LightGBM] [Warning] No further splits with positive gain, best gain: -inf\n",
      "[LightGBM] [Warning] No further splits with positive gain, best gain: -inf\n",
      "[LightGBM] [Warning] No further splits with positive gain, best gain: -inf\n",
      "[LightGBM] [Warning] No further splits with positive gain, best gain: -inf\n",
      "[LightGBM] [Warning] No further splits with positive gain, best gain: -inf\n",
      "[LightGBM] [Warning] No further splits with positive gain, best gain: -inf\n",
      "[LightGBM] [Warning] No further splits with positive gain, best gain: -inf\n",
      "[LightGBM] [Warning] No further splits with positive gain, best gain: -inf\n",
      "[LightGBM] [Warning] No further splits with positive gain, best gain: -inf\n",
      "[LightGBM] [Warning] No further splits with positive gain, best gain: -inf\n",
      "[LightGBM] [Warning] No further splits with positive gain, best gain: -inf\n",
      "[LightGBM] [Warning] No further splits with positive gain, best gain: -inf\n",
      "[LightGBM] [Warning] No further splits with positive gain, best gain: -inf\n",
      "[LightGBM] [Warning] No further splits with positive gain, best gain: -inf\n",
      "[LightGBM] [Warning] No further splits with positive gain, best gain: -inf\n",
      "[LightGBM] [Warning] No further splits with positive gain, best gain: -inf\n",
      "[LightGBM] [Warning] No further splits with positive gain, best gain: -inf\n",
      "[LightGBM] [Warning] No further splits with positive gain, best gain: -inf\n",
      "[LightGBM] [Warning] No further splits with positive gain, best gain: -inf\n",
      "[LightGBM] [Warning] No further splits with positive gain, best gain: -inf\n",
      "[LightGBM] [Warning] No further splits with positive gain, best gain: -inf\n",
      "[LightGBM] [Warning] No further splits with positive gain, best gain: -inf\n",
      "[LightGBM] [Warning] No further splits with positive gain, best gain: -inf\n",
      "[LightGBM] [Warning] No further splits with positive gain, best gain: -inf\n",
      "[LightGBM] [Warning] No further splits with positive gain, best gain: -inf\n",
      "[LightGBM] [Warning] No further splits with positive gain, best gain: -inf\n",
      "[LightGBM] [Warning] No further splits with positive gain, best gain: -inf\n",
      "[LightGBM] [Warning] No further splits with positive gain, best gain: -inf\n",
      "[LightGBM] [Warning] No further splits with positive gain, best gain: -inf\n",
      "[LightGBM] [Warning] No further splits with positive gain, best gain: -inf\n",
      "[LightGBM] [Warning] No further splits with positive gain, best gain: -inf\n",
      "[LightGBM] [Warning] No further splits with positive gain, best gain: -inf\n",
      "[LightGBM] [Warning] No further splits with positive gain, best gain: -inf\n",
      "[LightGBM] [Warning] No further splits with positive gain, best gain: -inf\n",
      "[LightGBM] [Warning] No further splits with positive gain, best gain: -inf\n",
      "[LightGBM] [Warning] No further splits with positive gain, best gain: -inf\n",
      "[LightGBM] [Warning] No further splits with positive gain, best gain: -inf\n",
      "[LightGBM] [Warning] No further splits with positive gain, best gain: -inf\n",
      "[LightGBM] [Warning] No further splits with positive gain, best gain: -inf\n",
      "[LightGBM] [Warning] No further splits with positive gain, best gain: -inf\n",
      "[LightGBM] [Warning] No further splits with positive gain, best gain: -inf\n",
      "[LightGBM] [Warning] No further splits with positive gain, best gain: -inf\n",
      "[LightGBM] [Warning] No further splits with positive gain, best gain: -inf\n",
      "[LightGBM] [Warning] No further splits with positive gain, best gain: -inf\n",
      "[LightGBM] [Warning] No further splits with positive gain, best gain: -inf\n",
      "[LightGBM] [Warning] No further splits with positive gain, best gain: -inf\n",
      "[LightGBM] [Warning] No further splits with positive gain, best gain: -inf\n",
      "[LightGBM] [Warning] No further splits with positive gain, best gain: -inf\n",
      "[LightGBM] [Warning] No further splits with positive gain, best gain: -inf\n",
      "[LightGBM] [Warning] No further splits with positive gain, best gain: -inf\n",
      "[LightGBM] [Warning] No further splits with positive gain, best gain: -inf\n",
      "[LightGBM] [Warning] No further splits with positive gain, best gain: -inf\n",
      "[LightGBM] [Warning] No further splits with positive gain, best gain: -inf\n",
      "[LightGBM] [Warning] No further splits with positive gain, best gain: -inf\n",
      "[LightGBM] [Warning] No further splits with positive gain, best gain: -inf\n",
      "[LightGBM] [Warning] No further splits with positive gain, best gain: -inf\n",
      "[LightGBM] [Warning] No further splits with positive gain, best gain: -inf\n",
      "[LightGBM] [Warning] No further splits with positive gain, best gain: -inf\n",
      "[LightGBM] [Warning] No further splits with positive gain, best gain: -inf\n",
      "[LightGBM] [Warning] No further splits with positive gain, best gain: -inf\n",
      "[LightGBM] [Warning] No further splits with positive gain, best gain: -inf\n",
      "[LightGBM] [Warning] No further splits with positive gain, best gain: -inf\n",
      "[LightGBM] [Warning] No further splits with positive gain, best gain: -inf\n",
      "[LightGBM] [Warning] No further splits with positive gain, best gain: -inf\n",
      "[LightGBM] [Warning] No further splits with positive gain, best gain: -inf\n",
      "[LightGBM] [Warning] No further splits with positive gain, best gain: -inf\n",
      "[LightGBM] [Warning] No further splits with positive gain, best gain: -inf\n",
      "[LightGBM] [Warning] No further splits with positive gain, best gain: -inf\n",
      "[LightGBM] [Warning] No further splits with positive gain, best gain: -inf\n",
      "[LightGBM] [Warning] No further splits with positive gain, best gain: -inf\n",
      "[LightGBM] [Warning] No further splits with positive gain, best gain: -inf\n",
      "[LightGBM] [Warning] No further splits with positive gain, best gain: -inf\n",
      "[LightGBM] [Warning] No further splits with positive gain, best gain: -inf\n",
      "[LightGBM] [Warning] No further splits with positive gain, best gain: -inf\n",
      "[LightGBM] [Warning] No further splits with positive gain, best gain: -inf\n",
      "[LightGBM] [Warning] No further splits with positive gain, best gain: -inf\n",
      "[LightGBM] [Warning] No further splits with positive gain, best gain: -inf\n",
      "[LightGBM] [Warning] No further splits with positive gain, best gain: -inf\n",
      "[LightGBM] [Warning] No further splits with positive gain, best gain: -inf\n",
      "[LightGBM] [Warning] No further splits with positive gain, best gain: -inf\n",
      "[LightGBM] [Warning] No further splits with positive gain, best gain: -inf\n",
      "[LightGBM] [Warning] No further splits with positive gain, best gain: -inf\n",
      "[LightGBM] [Warning] No further splits with positive gain, best gain: -inf\n",
      "[LightGBM] [Warning] No further splits with positive gain, best gain: -inf\n",
      "[LightGBM] [Warning] No further splits with positive gain, best gain: -inf\n",
      "[LightGBM] [Warning] No further splits with positive gain, best gain: -inf[LightGBM] [Info] Auto-choosing row-wise multi-threading, the overhead of testing was 0.025859 seconds.\n",
      "You can set `force_row_wise=true` to remove the overhead.\n",
      "And if memory is not enough, you can set `force_col_wise=true`.\n",
      "[LightGBM] [Info] Total Bins 240\n",
      "[LightGBM] [Info] Number of data points in the train set: 517754, number of used features: 25\n",
      "[LightGBM] [Info] Start training from score 0.352377\n"
     ]
    },
    {
     "data": {
      "text/html": [
       "<style>#sk-container-id-1 {color: black;background-color: white;}#sk-container-id-1 pre{padding: 0;}#sk-container-id-1 div.sk-toggleable {background-color: white;}#sk-container-id-1 label.sk-toggleable__label {cursor: pointer;display: block;width: 100%;margin-bottom: 0;padding: 0.3em;box-sizing: border-box;text-align: center;}#sk-container-id-1 label.sk-toggleable__label-arrow:before {content: \"▸\";float: left;margin-right: 0.25em;color: #696969;}#sk-container-id-1 label.sk-toggleable__label-arrow:hover:before {color: black;}#sk-container-id-1 div.sk-estimator:hover label.sk-toggleable__label-arrow:before {color: black;}#sk-container-id-1 div.sk-toggleable__content {max-height: 0;max-width: 0;overflow: hidden;text-align: left;background-color: #f0f8ff;}#sk-container-id-1 div.sk-toggleable__content pre {margin: 0.2em;color: black;border-radius: 0.25em;background-color: #f0f8ff;}#sk-container-id-1 input.sk-toggleable__control:checked~div.sk-toggleable__content {max-height: 200px;max-width: 100%;overflow: auto;}#sk-container-id-1 input.sk-toggleable__control:checked~label.sk-toggleable__label-arrow:before {content: \"▾\";}#sk-container-id-1 div.sk-estimator input.sk-toggleable__control:checked~label.sk-toggleable__label {background-color: #d4ebff;}#sk-container-id-1 div.sk-label input.sk-toggleable__control:checked~label.sk-toggleable__label {background-color: #d4ebff;}#sk-container-id-1 input.sk-hidden--visually {border: 0;clip: rect(1px 1px 1px 1px);clip: rect(1px, 1px, 1px, 1px);height: 1px;margin: -1px;overflow: hidden;padding: 0;position: absolute;width: 1px;}#sk-container-id-1 div.sk-estimator {font-family: monospace;background-color: #f0f8ff;border: 1px dotted black;border-radius: 0.25em;box-sizing: border-box;margin-bottom: 0.5em;}#sk-container-id-1 div.sk-estimator:hover {background-color: #d4ebff;}#sk-container-id-1 div.sk-parallel-item::after {content: \"\";width: 100%;border-bottom: 1px solid gray;flex-grow: 1;}#sk-container-id-1 div.sk-label:hover label.sk-toggleable__label {background-color: #d4ebff;}#sk-container-id-1 div.sk-serial::before {content: \"\";position: absolute;border-left: 1px solid gray;box-sizing: border-box;top: 0;bottom: 0;left: 50%;z-index: 0;}#sk-container-id-1 div.sk-serial {display: flex;flex-direction: column;align-items: center;background-color: white;padding-right: 0.2em;padding-left: 0.2em;position: relative;}#sk-container-id-1 div.sk-item {position: relative;z-index: 1;}#sk-container-id-1 div.sk-parallel {display: flex;align-items: stretch;justify-content: center;background-color: white;position: relative;}#sk-container-id-1 div.sk-item::before, #sk-container-id-1 div.sk-parallel-item::before {content: \"\";position: absolute;border-left: 1px solid gray;box-sizing: border-box;top: 0;bottom: 0;left: 50%;z-index: -1;}#sk-container-id-1 div.sk-parallel-item {display: flex;flex-direction: column;z-index: 1;position: relative;background-color: white;}#sk-container-id-1 div.sk-parallel-item:first-child::after {align-self: flex-end;width: 50%;}#sk-container-id-1 div.sk-parallel-item:last-child::after {align-self: flex-start;width: 50%;}#sk-container-id-1 div.sk-parallel-item:only-child::after {width: 0;}#sk-container-id-1 div.sk-dashed-wrapped {border: 1px dashed gray;margin: 0 0.4em 0.5em 0.4em;box-sizing: border-box;padding-bottom: 0.4em;background-color: white;}#sk-container-id-1 div.sk-label label {font-family: monospace;font-weight: bold;display: inline-block;line-height: 1.2em;}#sk-container-id-1 div.sk-label-container {text-align: center;}#sk-container-id-1 div.sk-container {/* jupyter's `normalize.less` sets `[hidden] { display: none; }` but bootstrap.min.css set `[hidden] { display: none !important; }` so we also need the `!important` here to be able to override the default hidden behavior on the sphinx rendered scikit-learn.org. See: https://github.com/scikit-learn/scikit-learn/issues/21755 */display: inline-block !important;position: relative;}#sk-container-id-1 div.sk-text-repr-fallback {display: none;}</style><div id=\"sk-container-id-1\" class=\"sk-top-container\"><div class=\"sk-text-repr-fallback\"><pre>RandomizedSearchCV(cv=KFold(n_splits=5, random_state=42, shuffle=True),\n",
       "                   estimator=LGBMRegressor(n_estimators=50), n_iter=4,\n",
       "                   n_jobs=-1,\n",
       "                   param_distributions={&#x27;colsample_bytree&#x27;: [0.8, 1.0],\n",
       "                                        &#x27;learning_rate&#x27;: [0.01, 0.05, 0.1],\n",
       "                                        &#x27;max_depth&#x27;: [-1, 3, 6],\n",
       "                                        &#x27;min_child_samples&#x27;: [5, 10, 20],\n",
       "                                        &#x27;n_estimators&#x27;: [100, 300, 500],\n",
       "                                        &#x27;num_leaves&#x27;: [7, 15, 31],\n",
       "                                        &#x27;reg_alpha&#x27;: [0.0, 0.1, 1.0],\n",
       "                                        &#x27;reg_lambda&#x27;: [0.0, 0.1, 1.0],\n",
       "                                        &#x27;subsample&#x27;: [0.8, 1.0]},\n",
       "                   random_state=42,\n",
       "                   scoring=make_scorer(rmse, greater_is_better=False),\n",
       "                   verbose=1)</pre><b>In a Jupyter environment, please rerun this cell to show the HTML representation or trust the notebook. <br />On GitHub, the HTML representation is unable to render, please try loading this page with nbviewer.org.</b></div><div class=\"sk-container\" hidden><div class=\"sk-item sk-dashed-wrapped\"><div class=\"sk-label-container\"><div class=\"sk-label sk-toggleable\"><input class=\"sk-toggleable__control sk-hidden--visually\" id=\"sk-estimator-id-1\" type=\"checkbox\" ><label for=\"sk-estimator-id-1\" class=\"sk-toggleable__label sk-toggleable__label-arrow\">RandomizedSearchCV</label><div class=\"sk-toggleable__content\"><pre>RandomizedSearchCV(cv=KFold(n_splits=5, random_state=42, shuffle=True),\n",
       "                   estimator=LGBMRegressor(n_estimators=50), n_iter=4,\n",
       "                   n_jobs=-1,\n",
       "                   param_distributions={&#x27;colsample_bytree&#x27;: [0.8, 1.0],\n",
       "                                        &#x27;learning_rate&#x27;: [0.01, 0.05, 0.1],\n",
       "                                        &#x27;max_depth&#x27;: [-1, 3, 6],\n",
       "                                        &#x27;min_child_samples&#x27;: [5, 10, 20],\n",
       "                                        &#x27;n_estimators&#x27;: [100, 300, 500],\n",
       "                                        &#x27;num_leaves&#x27;: [7, 15, 31],\n",
       "                                        &#x27;reg_alpha&#x27;: [0.0, 0.1, 1.0],\n",
       "                                        &#x27;reg_lambda&#x27;: [0.0, 0.1, 1.0],\n",
       "                                        &#x27;subsample&#x27;: [0.8, 1.0]},\n",
       "                   random_state=42,\n",
       "                   scoring=make_scorer(rmse, greater_is_better=False),\n",
       "                   verbose=1)</pre></div></div></div><div class=\"sk-parallel\"><div class=\"sk-parallel-item\"><div class=\"sk-item\"><div class=\"sk-label-container\"><div class=\"sk-label sk-toggleable\"><input class=\"sk-toggleable__control sk-hidden--visually\" id=\"sk-estimator-id-2\" type=\"checkbox\" ><label for=\"sk-estimator-id-2\" class=\"sk-toggleable__label sk-toggleable__label-arrow\">estimator: LGBMRegressor</label><div class=\"sk-toggleable__content\"><pre>LGBMRegressor(n_estimators=50)</pre></div></div></div><div class=\"sk-serial\"><div class=\"sk-item\"><div class=\"sk-estimator sk-toggleable\"><input class=\"sk-toggleable__control sk-hidden--visually\" id=\"sk-estimator-id-3\" type=\"checkbox\" ><label for=\"sk-estimator-id-3\" class=\"sk-toggleable__label sk-toggleable__label-arrow\">LGBMRegressor</label><div class=\"sk-toggleable__content\"><pre>LGBMRegressor(n_estimators=50)</pre></div></div></div></div></div></div></div></div></div></div>"
      ],
      "text/plain": [
       "RandomizedSearchCV(cv=KFold(n_splits=5, random_state=42, shuffle=True),\n",
       "                   estimator=LGBMRegressor(n_estimators=50), n_iter=4,\n",
       "                   n_jobs=-1,\n",
       "                   param_distributions={'colsample_bytree': [0.8, 1.0],\n",
       "                                        'learning_rate': [0.01, 0.05, 0.1],\n",
       "                                        'max_depth': [-1, 3, 6],\n",
       "                                        'min_child_samples': [5, 10, 20],\n",
       "                                        'n_estimators': [100, 300, 500],\n",
       "                                        'num_leaves': [7, 15, 31],\n",
       "                                        'reg_alpha': [0.0, 0.1, 1.0],\n",
       "                                        'reg_lambda': [0.0, 0.1, 1.0],\n",
       "                                        'subsample': [0.8, 1.0]},\n",
       "                   random_state=42,\n",
       "                   scoring=make_scorer(rmse, greater_is_better=False),\n",
       "                   verbose=1)"
      ]
     },
     "execution_count": 40,
     "metadata": {},
     "output_type": "execute_result"
    }
   ],
   "source": [
    "randomSearch.fit(X, y)"
   ]
  },
  {
   "cell_type": "code",
   "execution_count": 41,
   "id": "04fc1703",
   "metadata": {
    "execution": {
     "iopub.execute_input": "2025-10-03T10:12:00.085758Z",
     "iopub.status.busy": "2025-10-03T10:12:00.085472Z",
     "iopub.status.idle": "2025-10-03T10:12:00.090185Z",
     "shell.execute_reply": "2025-10-03T10:12:00.089291Z"
    },
    "papermill": {
     "duration": 0.030033,
     "end_time": "2025-10-03T10:12:00.091467",
     "exception": false,
     "start_time": "2025-10-03T10:12:00.061434",
     "status": "completed"
    },
    "tags": []
   },
   "outputs": [
    {
     "name": "stdout",
     "output_type": "stream",
     "text": [
      "Best RMSE: 0.05629182555298294\n",
      "Best params: {'subsample': 0.8, 'reg_lambda': 1.0, 'reg_alpha': 1.0, 'num_leaves': 15, 'n_estimators': 500, 'min_child_samples': 20, 'max_depth': 6, 'learning_rate': 0.05, 'colsample_bytree': 1.0}\n"
     ]
    }
   ],
   "source": [
    "print(\"Best RMSE:\", -randomSearch.best_score_)\n",
    "print(\"Best params:\", randomSearch.best_params_)\n",
    "final_model = randomSearch.best_estimator_"
   ]
  },
  {
   "cell_type": "code",
   "execution_count": 42,
   "id": "192273e8",
   "metadata": {
    "execution": {
     "iopub.execute_input": "2025-10-03T10:12:00.136985Z",
     "iopub.status.busy": "2025-10-03T10:12:00.136687Z",
     "iopub.status.idle": "2025-10-03T10:12:19.625273Z",
     "shell.execute_reply": "2025-10-03T10:12:19.624417Z"
    },
    "papermill": {
     "duration": 19.513109,
     "end_time": "2025-10-03T10:12:19.626624",
     "exception": false,
     "start_time": "2025-10-03T10:12:00.113515",
     "status": "completed"
    },
    "tags": []
   },
   "outputs": [
    {
     "name": "stdout",
     "output_type": "stream",
     "text": [
      "[LightGBM] [Info] Auto-choosing row-wise multi-threading, the overhead of testing was 0.021804 seconds.\n",
      "You can set `force_row_wise=true` to remove the overhead.\n",
      "And if memory is not enough, you can set `force_col_wise=true`.\n",
      "[LightGBM] [Info] Total Bins 240\n",
      "[LightGBM] [Info] Number of data points in the train set: 465978, number of used features: 25\n",
      "[LightGBM] [Info] Start training from score 0.352476\n"
     ]
    },
    {
     "data": {
      "text/plain": [
       "(0.05616919410448876, 0.05622385037985435)"
      ]
     },
     "execution_count": 42,
     "metadata": {},
     "output_type": "execute_result"
    }
   ],
   "source": [
    "final_model.fit(X_train, y_train)\n",
    "pred = final_model.predict(X_val)\n",
    "\n",
    "rmse(final_model.predict(X_train), y_train), rmse(pred, y_val)"
   ]
  },
  {
   "cell_type": "markdown",
   "id": "b9bab82c",
   "metadata": {
    "papermill": {
     "duration": 0.021686,
     "end_time": "2025-10-03T10:12:19.670390",
     "exception": false,
     "start_time": "2025-10-03T10:12:19.648704",
     "status": "completed"
    },
    "tags": []
   },
   "source": [
    "# 4. Submit"
   ]
  },
  {
   "cell_type": "code",
   "execution_count": 43,
   "id": "57ac37d5",
   "metadata": {
    "execution": {
     "iopub.execute_input": "2025-10-03T10:12:19.715504Z",
     "iopub.status.busy": "2025-10-03T10:12:19.715212Z",
     "iopub.status.idle": "2025-10-03T10:12:19.787056Z",
     "shell.execute_reply": "2025-10-03T10:12:19.786209Z"
    },
    "papermill": {
     "duration": 0.09621,
     "end_time": "2025-10-03T10:12:19.788531",
     "exception": false,
     "start_time": "2025-10-03T10:12:19.692321",
     "status": "completed"
    },
    "tags": []
   },
   "outputs": [
    {
     "data": {
      "text/html": [
       "<div>\n",
       "<style scoped>\n",
       "    .dataframe tbody tr th:only-of-type {\n",
       "        vertical-align: middle;\n",
       "    }\n",
       "\n",
       "    .dataframe tbody tr th {\n",
       "        vertical-align: top;\n",
       "    }\n",
       "\n",
       "    .dataframe thead th {\n",
       "        text-align: right;\n",
       "    }\n",
       "</style>\n",
       "<table border=\"1\" class=\"dataframe\">\n",
       "  <thead>\n",
       "    <tr style=\"text-align: right;\">\n",
       "      <th></th>\n",
       "      <th>id</th>\n",
       "      <th>accident_risk</th>\n",
       "    </tr>\n",
       "  </thead>\n",
       "  <tbody>\n",
       "    <tr>\n",
       "      <th>0</th>\n",
       "      <td>517754</td>\n",
       "      <td>0.352</td>\n",
       "    </tr>\n",
       "    <tr>\n",
       "      <th>1</th>\n",
       "      <td>517755</td>\n",
       "      <td>0.352</td>\n",
       "    </tr>\n",
       "    <tr>\n",
       "      <th>2</th>\n",
       "      <td>517756</td>\n",
       "      <td>0.352</td>\n",
       "    </tr>\n",
       "    <tr>\n",
       "      <th>3</th>\n",
       "      <td>517757</td>\n",
       "      <td>0.352</td>\n",
       "    </tr>\n",
       "    <tr>\n",
       "      <th>4</th>\n",
       "      <td>517758</td>\n",
       "      <td>0.352</td>\n",
       "    </tr>\n",
       "  </tbody>\n",
       "</table>\n",
       "</div>"
      ],
      "text/plain": [
       "       id  accident_risk\n",
       "0  517754          0.352\n",
       "1  517755          0.352\n",
       "2  517756          0.352\n",
       "3  517757          0.352\n",
       "4  517758          0.352"
      ]
     },
     "execution_count": 43,
     "metadata": {},
     "output_type": "execute_result"
    }
   ],
   "source": [
    "sample = pd.read_csv(\"/kaggle/input/playground-series-s5e10/sample_submission.csv\")\n",
    "sample.head()"
   ]
  },
  {
   "cell_type": "code",
   "execution_count": 44,
   "id": "6ff9e0bb",
   "metadata": {
    "execution": {
     "iopub.execute_input": "2025-10-03T10:12:19.835549Z",
     "iopub.status.busy": "2025-10-03T10:12:19.834914Z",
     "iopub.status.idle": "2025-10-03T10:12:20.148842Z",
     "shell.execute_reply": "2025-10-03T10:12:20.147952Z"
    },
    "papermill": {
     "duration": 0.33908,
     "end_time": "2025-10-03T10:12:20.150250",
     "exception": false,
     "start_time": "2025-10-03T10:12:19.811170",
     "status": "completed"
    },
    "tags": []
   },
   "outputs": [
    {
     "data": {
      "text/html": [
       "<div>\n",
       "<style scoped>\n",
       "    .dataframe tbody tr th:only-of-type {\n",
       "        vertical-align: middle;\n",
       "    }\n",
       "\n",
       "    .dataframe tbody tr th {\n",
       "        vertical-align: top;\n",
       "    }\n",
       "\n",
       "    .dataframe thead th {\n",
       "        text-align: right;\n",
       "    }\n",
       "</style>\n",
       "<table border=\"1\" class=\"dataframe\">\n",
       "  <thead>\n",
       "    <tr style=\"text-align: right;\">\n",
       "      <th></th>\n",
       "      <th>road_type</th>\n",
       "      <th>num_lanes</th>\n",
       "      <th>curvature</th>\n",
       "      <th>speed_limit</th>\n",
       "      <th>lighting</th>\n",
       "      <th>weather</th>\n",
       "      <th>road_signs_present</th>\n",
       "      <th>public_road</th>\n",
       "      <th>time_of_day</th>\n",
       "      <th>holiday</th>\n",
       "      <th>school_season</th>\n",
       "      <th>num_reported_accidents</th>\n",
       "    </tr>\n",
       "    <tr>\n",
       "      <th>id</th>\n",
       "      <th></th>\n",
       "      <th></th>\n",
       "      <th></th>\n",
       "      <th></th>\n",
       "      <th></th>\n",
       "      <th></th>\n",
       "      <th></th>\n",
       "      <th></th>\n",
       "      <th></th>\n",
       "      <th></th>\n",
       "      <th></th>\n",
       "      <th></th>\n",
       "    </tr>\n",
       "  </thead>\n",
       "  <tbody>\n",
       "    <tr>\n",
       "      <th>517754</th>\n",
       "      <td>highway</td>\n",
       "      <td>2</td>\n",
       "      <td>0.34</td>\n",
       "      <td>45</td>\n",
       "      <td>night</td>\n",
       "      <td>clear</td>\n",
       "      <td>True</td>\n",
       "      <td>True</td>\n",
       "      <td>afternoon</td>\n",
       "      <td>True</td>\n",
       "      <td>True</td>\n",
       "      <td>1</td>\n",
       "    </tr>\n",
       "    <tr>\n",
       "      <th>517755</th>\n",
       "      <td>urban</td>\n",
       "      <td>3</td>\n",
       "      <td>0.04</td>\n",
       "      <td>45</td>\n",
       "      <td>dim</td>\n",
       "      <td>foggy</td>\n",
       "      <td>True</td>\n",
       "      <td>False</td>\n",
       "      <td>afternoon</td>\n",
       "      <td>True</td>\n",
       "      <td>False</td>\n",
       "      <td>0</td>\n",
       "    </tr>\n",
       "    <tr>\n",
       "      <th>517756</th>\n",
       "      <td>urban</td>\n",
       "      <td>2</td>\n",
       "      <td>0.59</td>\n",
       "      <td>35</td>\n",
       "      <td>dim</td>\n",
       "      <td>clear</td>\n",
       "      <td>True</td>\n",
       "      <td>False</td>\n",
       "      <td>afternoon</td>\n",
       "      <td>True</td>\n",
       "      <td>True</td>\n",
       "      <td>1</td>\n",
       "    </tr>\n",
       "    <tr>\n",
       "      <th>517757</th>\n",
       "      <td>rural</td>\n",
       "      <td>4</td>\n",
       "      <td>0.95</td>\n",
       "      <td>35</td>\n",
       "      <td>daylight</td>\n",
       "      <td>rainy</td>\n",
       "      <td>False</td>\n",
       "      <td>False</td>\n",
       "      <td>afternoon</td>\n",
       "      <td>False</td>\n",
       "      <td>False</td>\n",
       "      <td>2</td>\n",
       "    </tr>\n",
       "    <tr>\n",
       "      <th>517758</th>\n",
       "      <td>highway</td>\n",
       "      <td>2</td>\n",
       "      <td>0.86</td>\n",
       "      <td>35</td>\n",
       "      <td>daylight</td>\n",
       "      <td>clear</td>\n",
       "      <td>True</td>\n",
       "      <td>False</td>\n",
       "      <td>evening</td>\n",
       "      <td>False</td>\n",
       "      <td>True</td>\n",
       "      <td>3</td>\n",
       "    </tr>\n",
       "  </tbody>\n",
       "</table>\n",
       "</div>"
      ],
      "text/plain": [
       "       road_type  num_lanes  curvature  speed_limit  lighting weather  \\\n",
       "id                                                                      \n",
       "517754   highway          2       0.34           45     night   clear   \n",
       "517755     urban          3       0.04           45       dim   foggy   \n",
       "517756     urban          2       0.59           35       dim   clear   \n",
       "517757     rural          4       0.95           35  daylight   rainy   \n",
       "517758   highway          2       0.86           35  daylight   clear   \n",
       "\n",
       "        road_signs_present  public_road time_of_day  holiday  school_season  \\\n",
       "id                                                                            \n",
       "517754                True         True   afternoon     True           True   \n",
       "517755                True        False   afternoon     True          False   \n",
       "517756                True        False   afternoon     True           True   \n",
       "517757               False        False   afternoon    False          False   \n",
       "517758                True        False     evening    False           True   \n",
       "\n",
       "        num_reported_accidents  \n",
       "id                              \n",
       "517754                       1  \n",
       "517755                       0  \n",
       "517756                       1  \n",
       "517757                       2  \n",
       "517758                       3  "
      ]
     },
     "execution_count": 44,
     "metadata": {},
     "output_type": "execute_result"
    }
   ],
   "source": [
    "test = pd.read_csv(\"/kaggle/input/playground-series-s5e10/test.csv\", index_col = \"id\")\n",
    "test.head()"
   ]
  },
  {
   "cell_type": "code",
   "execution_count": 45,
   "id": "54ccab0d",
   "metadata": {
    "execution": {
     "iopub.execute_input": "2025-10-03T10:12:20.197158Z",
     "iopub.status.busy": "2025-10-03T10:12:20.196832Z",
     "iopub.status.idle": "2025-10-03T10:12:20.632544Z",
     "shell.execute_reply": "2025-10-03T10:12:20.631595Z"
    },
    "papermill": {
     "duration": 0.460927,
     "end_time": "2025-10-03T10:12:20.634073",
     "exception": false,
     "start_time": "2025-10-03T10:12:20.173146",
     "status": "completed"
    },
    "tags": []
   },
   "outputs": [
    {
     "data": {
      "text/plain": [
       "(172585, 25)"
      ]
     },
     "execution_count": 45,
     "metadata": {},
     "output_type": "execute_result"
    }
   ],
   "source": [
    "transformed_test = pipeline.fit_transform(test)\n",
    "transformed_test.shape"
   ]
  },
  {
   "cell_type": "code",
   "execution_count": 46,
   "id": "18859ef1",
   "metadata": {
    "execution": {
     "iopub.execute_input": "2025-10-03T10:12:20.681581Z",
     "iopub.status.busy": "2025-10-03T10:12:20.681286Z",
     "iopub.status.idle": "2025-10-03T10:12:23.340173Z",
     "shell.execute_reply": "2025-10-03T10:12:23.339379Z"
    },
    "papermill": {
     "duration": 2.684162,
     "end_time": "2025-10-03T10:12:23.341567",
     "exception": false,
     "start_time": "2025-10-03T10:12:20.657405",
     "status": "completed"
    },
    "tags": []
   },
   "outputs": [
    {
     "data": {
      "text/plain": [
       "array([0.29242403, 0.12522942, 0.18420794, ..., 0.24926051, 0.12781006,\n",
       "       0.491537  ])"
      ]
     },
     "execution_count": 46,
     "metadata": {},
     "output_type": "execute_result"
    }
   ],
   "source": [
    "pred = final_model.predict(transformed_test)\n",
    "pred"
   ]
  },
  {
   "cell_type": "code",
   "execution_count": 47,
   "id": "02d37105",
   "metadata": {
    "execution": {
     "iopub.execute_input": "2025-10-03T10:12:23.388604Z",
     "iopub.status.busy": "2025-10-03T10:12:23.387842Z",
     "iopub.status.idle": "2025-10-03T10:12:23.393276Z",
     "shell.execute_reply": "2025-10-03T10:12:23.392590Z"
    },
    "papermill": {
     "duration": 0.030169,
     "end_time": "2025-10-03T10:12:23.394564",
     "exception": false,
     "start_time": "2025-10-03T10:12:23.364395",
     "status": "completed"
    },
    "tags": []
   },
   "outputs": [
    {
     "data": {
      "text/plain": [
       "Index([517754, 517755, 517756, 517757, 517758, 517759, 517760, 517761, 517762,\n",
       "       517763,\n",
       "       ...\n",
       "       690329, 690330, 690331, 690332, 690333, 690334, 690335, 690336, 690337,\n",
       "       690338],\n",
       "      dtype='int64', name='id', length=172585)"
      ]
     },
     "execution_count": 47,
     "metadata": {},
     "output_type": "execute_result"
    }
   ],
   "source": [
    "id_col = test.index\n",
    "id_col"
   ]
  },
  {
   "cell_type": "code",
   "execution_count": 48,
   "id": "21de20cf",
   "metadata": {
    "execution": {
     "iopub.execute_input": "2025-10-03T10:12:23.442060Z",
     "iopub.status.busy": "2025-10-03T10:12:23.441490Z",
     "iopub.status.idle": "2025-10-03T10:12:23.839291Z",
     "shell.execute_reply": "2025-10-03T10:12:23.838464Z"
    },
    "papermill": {
     "duration": 0.423134,
     "end_time": "2025-10-03T10:12:23.840725",
     "exception": false,
     "start_time": "2025-10-03T10:12:23.417591",
     "status": "completed"
    },
    "tags": []
   },
   "outputs": [
    {
     "data": {
      "text/html": [
       "<div>\n",
       "<style scoped>\n",
       "    .dataframe tbody tr th:only-of-type {\n",
       "        vertical-align: middle;\n",
       "    }\n",
       "\n",
       "    .dataframe tbody tr th {\n",
       "        vertical-align: top;\n",
       "    }\n",
       "\n",
       "    .dataframe thead th {\n",
       "        text-align: right;\n",
       "    }\n",
       "</style>\n",
       "<table border=\"1\" class=\"dataframe\">\n",
       "  <thead>\n",
       "    <tr style=\"text-align: right;\">\n",
       "      <th></th>\n",
       "      <th>id</th>\n",
       "      <th>accident_risk</th>\n",
       "    </tr>\n",
       "  </thead>\n",
       "  <tbody>\n",
       "    <tr>\n",
       "      <th>0</th>\n",
       "      <td>517754</td>\n",
       "      <td>0.292424</td>\n",
       "    </tr>\n",
       "    <tr>\n",
       "      <th>1</th>\n",
       "      <td>517755</td>\n",
       "      <td>0.125229</td>\n",
       "    </tr>\n",
       "    <tr>\n",
       "      <th>2</th>\n",
       "      <td>517756</td>\n",
       "      <td>0.184208</td>\n",
       "    </tr>\n",
       "    <tr>\n",
       "      <th>3</th>\n",
       "      <td>517757</td>\n",
       "      <td>0.323909</td>\n",
       "    </tr>\n",
       "    <tr>\n",
       "      <th>4</th>\n",
       "      <td>517758</td>\n",
       "      <td>0.419170</td>\n",
       "    </tr>\n",
       "    <tr>\n",
       "      <th>...</th>\n",
       "      <td>...</td>\n",
       "      <td>...</td>\n",
       "    </tr>\n",
       "    <tr>\n",
       "      <th>172580</th>\n",
       "      <td>690334</td>\n",
       "      <td>0.110879</td>\n",
       "    </tr>\n",
       "    <tr>\n",
       "      <th>172581</th>\n",
       "      <td>690335</td>\n",
       "      <td>0.515903</td>\n",
       "    </tr>\n",
       "    <tr>\n",
       "      <th>172582</th>\n",
       "      <td>690336</td>\n",
       "      <td>0.249261</td>\n",
       "    </tr>\n",
       "    <tr>\n",
       "      <th>172583</th>\n",
       "      <td>690337</td>\n",
       "      <td>0.127810</td>\n",
       "    </tr>\n",
       "    <tr>\n",
       "      <th>172584</th>\n",
       "      <td>690338</td>\n",
       "      <td>0.491537</td>\n",
       "    </tr>\n",
       "  </tbody>\n",
       "</table>\n",
       "<p>172585 rows × 2 columns</p>\n",
       "</div>"
      ],
      "text/plain": [
       "            id  accident_risk\n",
       "0       517754       0.292424\n",
       "1       517755       0.125229\n",
       "2       517756       0.184208\n",
       "3       517757       0.323909\n",
       "4       517758       0.419170\n",
       "...        ...            ...\n",
       "172580  690334       0.110879\n",
       "172581  690335       0.515903\n",
       "172582  690336       0.249261\n",
       "172583  690337       0.127810\n",
       "172584  690338       0.491537\n",
       "\n",
       "[172585 rows x 2 columns]"
      ]
     },
     "execution_count": 48,
     "metadata": {},
     "output_type": "execute_result"
    }
   ],
   "source": [
    "submission = pd.DataFrame(\n",
    "    {\"id\": id_col, \n",
    "     \"accident_risk\" : pred\n",
    "    }\n",
    ")\n",
    "\n",
    "submission.to_csv(\"submission.csv\", index=False)\n",
    "submission"
   ]
  }
 ],
 "metadata": {
  "kaggle": {
   "accelerator": "none",
   "dataSources": [
    {
     "databundleVersionId": 13760552,
     "sourceId": 91721,
     "sourceType": "competition"
    }
   ],
   "dockerImageVersionId": 31089,
   "isGpuEnabled": false,
   "isInternetEnabled": true,
   "language": "python",
   "sourceType": "notebook"
  },
  "kernelspec": {
   "display_name": "Python 3",
   "language": "python",
   "name": "python3"
  },
  "language_info": {
   "codemirror_mode": {
    "name": "ipython",
    "version": 3
   },
   "file_extension": ".py",
   "mimetype": "text/x-python",
   "name": "python",
   "nbconvert_exporter": "python",
   "pygments_lexer": "ipython3",
   "version": "3.11.13"
  },
  "papermill": {
   "default_parameters": {},
   "duration": 211.110456,
   "end_time": "2025-10-03T10:12:26.482289",
   "environment_variables": {},
   "exception": null,
   "input_path": "__notebook__.ipynb",
   "output_path": "__notebook__.ipynb",
   "parameters": {},
   "start_time": "2025-10-03T10:08:55.371833",
   "version": "2.6.0"
  }
 },
 "nbformat": 4,
 "nbformat_minor": 5
}
